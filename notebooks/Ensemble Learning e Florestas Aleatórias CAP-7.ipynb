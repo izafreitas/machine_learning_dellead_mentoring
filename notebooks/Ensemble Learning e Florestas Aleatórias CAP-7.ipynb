{
 "cells": [
  {
   "cell_type": "markdown",
   "id": "9f79fb8e",
   "metadata": {},
   "source": [
    "**O código a seguir cria e treina um classificador de votação no Scikit-Learn composto\n",
    "por três classificadores diversos**"
   ]
  },
  {
   "cell_type": "code",
   "execution_count": 248,
   "id": "d3acf793",
   "metadata": {},
   "outputs": [],
   "source": [
    "import pandas as pd\n",
    "from sklearn.datasets import make_moons\n",
    "from sklearn.pipeline import Pipeline\n",
    "from sklearn.preprocessing import PolynomialFeatures\n",
    "from sklearn.svm import SVC\n",
    "from sklearn.ensemble import RandomForestClassifier\n",
    "from sklearn.ensemble import VotingClassifier\n",
    "from sklearn.linear_model import LogisticRegression\n",
    "from sklearn.metrics import accuracy_score\n",
    "from sklearn.model_selection import train_test_split\n",
    "import matplotlib.pyplot as plt"
   ]
  },
  {
   "cell_type": "code",
   "execution_count": 249,
   "id": "4b6d5219",
   "metadata": {},
   "outputs": [],
   "source": [
    "#df = datasets.make_moons()"
   ]
  },
  {
   "cell_type": "markdown",
   "id": "3a57e909",
   "metadata": {},
   "source": [
    "**Dividir o dataset em treino e teste**"
   ]
  },
  {
   "cell_type": "code",
   "execution_count": 250,
   "id": "ba0ec62e",
   "metadata": {},
   "outputs": [],
   "source": [
    "X_train, X_test, y_train, y_test= train_test_split(X, y,test_size = 0.3, random_state=2)"
   ]
  },
  {
   "cell_type": "code",
   "execution_count": 251,
   "id": "682cbc2d",
   "metadata": {},
   "outputs": [],
   "source": [
    "log_clf = LogisticRegression()\n",
    "rnd_clf = RandomForestClassifier()\n",
    "svm_clf = SVC()"
   ]
  },
  {
   "cell_type": "code",
   "execution_count": 252,
   "id": "799d9504",
   "metadata": {},
   "outputs": [
    {
     "data": {
      "text/plain": [
       "VotingClassifier(estimators=[('lr', LogisticRegression()),\n",
       "                             ('rf', RandomForestClassifier()), ('svc', SVC())])"
      ]
     },
     "execution_count": 252,
     "metadata": {},
     "output_type": "execute_result"
    }
   ],
   "source": [
    "voting_clf = VotingClassifier(\n",
    "    estimators=[('lr', log_clf), \n",
    "                ('rf', rnd_clf), \n",
    "                ('svc', svm_clf)], voting='hard')\n",
    "voting_clf.fit(X_train, y_train)"
   ]
  },
  {
   "cell_type": "markdown",
   "id": "f835ff29",
   "metadata": {},
   "source": [
    "Vejamos a acurácia de cada classificador no conjunto de testes:"
   ]
  },
  {
   "cell_type": "markdown",
   "id": "f139d479",
   "metadata": {},
   "source": [
    "**Prevendo a classe com a maior probabilidade na média sobre todos os classificadores individuais**"
   ]
  },
  {
   "cell_type": "code",
   "execution_count": 263,
   "id": "26181040",
   "metadata": {},
   "outputs": [],
   "source": [
    "log_clf = LogisticRegression()\n",
    "rnd_clf = RandomForestClassifier()\n",
    "svm_clf = SVC(probability=True)"
   ]
  },
  {
   "cell_type": "code",
   "execution_count": 269,
   "id": "8dcced7e",
   "metadata": {},
   "outputs": [
    {
     "data": {
      "text/plain": [
       "VotingClassifier(estimators=[('lr', LogisticRegression()),\n",
       "                             ('rf', RandomForestClassifier()),\n",
       "                             ('svc', SVC(probability=True))],\n",
       "                 voting='soft')"
      ]
     },
     "execution_count": 269,
     "metadata": {},
     "output_type": "execute_result"
    }
   ],
   "source": [
    "voting_clf = VotingClassifier(estimators=[('lr', log_clf), ('rf', rnd_clf), ('svc', _svm_clf)], voting='soft')\n",
    "        \n",
    "voting_clf.fit(X_train, y_train)"
   ]
  },
  {
   "cell_type": "code",
   "execution_count": 270,
   "id": "167343c1",
   "metadata": {},
   "outputs": [
    {
     "name": "stdout",
     "output_type": "stream",
     "text": [
      "LogisticRegression 0.9777777777777777\n",
      "RandomForestClassifier 0.9777777777777777\n",
      "SVC 0.9777777777777777\n",
      "VotingClassifier 0.9777777777777777\n"
     ]
    }
   ],
   "source": [
    "for clf in (log_clf, rnd_clf, svm_clf, voting_clf):\n",
    "    clf.fit(X_train, y_train)\n",
    "    y_pred = clf.predict(X_test)\n",
    "    print(clf.__class__.__name__, accuracy_score(y_test, y_pred))"
   ]
  },
  {
   "cell_type": "markdown",
   "id": "97125e5a",
   "metadata": {},
   "source": [
    "**O código a seguir\n",
    "treina um conjunto de 500 classificadores de Árvores de Decisão,5 cada um treinado\n",
    "em 100 instâncias de treinamento amostradas aleatoriamente com substituição no\n",
    "conjunto de treinamento (exemplo de bagging)**"
   ]
  },
  {
   "cell_type": "code",
   "execution_count": 182,
   "id": "1acc3f03",
   "metadata": {},
   "outputs": [],
   "source": [
    "from sklearn.ensemble import BaggingClassifier\n",
    "from sklearn.tree import DecisionTreeClassifier"
   ]
  },
  {
   "cell_type": "code",
   "execution_count": 186,
   "id": "dd39f0d0",
   "metadata": {},
   "outputs": [],
   "source": [
    "#bootstrap=false para um conjunto de trinamento no modo  pasting\n",
    "# n_jobs=-1, informa a quantidade de núcleos que serão utilizados para as previsões\n",
    "bag_clf = BaggingClassifier(DecisionTreeClassifier(), n_estimators=500, max_samples=100, bootstrap=True, n_jobs=-1)\n",
    "bag_clf.fit(X_train, y_train)\n",
    "y_pred = bag_clf.predict(X_test)"
   ]
  },
  {
   "cell_type": "markdown",
   "id": "b565e7a2",
   "metadata": {},
   "source": [
    "**Avaliação do ensemble com a média das avaliações Out-of-bag `oob_score=True`**\n",
    "\n",
    "*Avaliação automática após o treinamento*"
   ]
  },
  {
   "cell_type": "code",
   "execution_count": 190,
   "id": "21ef1e39",
   "metadata": {},
   "outputs": [],
   "source": [
    "bag_clf=BaggingClassifier(\n",
    "DecisionTreeClassifier(), n_estimators=500, \n",
    "bootstrap=True, n_jobs=-1, oob_score=True)"
   ]
  },
  {
   "cell_type": "code",
   "execution_count": 191,
   "id": "e1a40b37",
   "metadata": {},
   "outputs": [
    {
     "data": {
      "text/plain": [
       "0.9523809523809523"
      ]
     },
     "execution_count": 191,
     "metadata": {},
     "output_type": "execute_result"
    }
   ],
   "source": [
    "# O BaggingClassifier obteve a acurácia de 0.95 no conjunto de treino\n",
    "bag_clf.fit(X_train, y_train)\n",
    "bag_clf.oob_score_"
   ]
  },
  {
   "cell_type": "code",
   "execution_count": 192,
   "id": "132739d6",
   "metadata": {},
   "outputs": [
    {
     "data": {
      "text/plain": [
       "0.9555555555555556"
      ]
     },
     "execution_count": 192,
     "metadata": {},
     "output_type": "execute_result"
    }
   ],
   "source": [
    "# O BaggingClassifier obteve a acurácia de 0.95 no conjunto de teste\n",
    "from sklearn.metrics import accuracy_score\n",
    "y_pred = bag_clf.predict(X_test)\n",
    "accuracy_score(y_test, y_pred)"
   ]
  },
  {
   "cell_type": "markdown",
   "id": "4a153b34",
   "metadata": {},
   "source": [
    "## Florestas Aleatórias\n",
    "\n",
    "*O código\n",
    "a seguir treina um classificador de Floresta Aleatória com 500 árvores (cada uma limitada\n",
    "a 16 nós no máximo) com a utilização de todos os núcleos de CPU disponíveis:*"
   ]
  },
  {
   "cell_type": "code",
   "execution_count": 193,
   "id": "d9f2f685",
   "metadata": {},
   "outputs": [],
   "source": [
    "from sklearn.ensemble import RandomForestClassifier"
   ]
  },
  {
   "cell_type": "code",
   "execution_count": 194,
   "id": "e9064b35",
   "metadata": {},
   "outputs": [],
   "source": [
    "rnd_clf = RandomForestClassifier(n_estimators=500, max_leaf_nodes=16, n_jobs=-1)\n",
    "rnd_clf.fit(X_train, y_train)\n",
    "y_pred_rf = rnd_clf.predict(X_test)"
   ]
  },
  {
   "cell_type": "markdown",
   "id": "bd7c04dc",
   "metadata": {},
   "source": [
    "O BaggingClassifier a seguir é\n",
    "equivalente ao RandomForestClassifier anterior:"
   ]
  },
  {
   "cell_type": "code",
   "execution_count": 195,
   "id": "af67cb06",
   "metadata": {},
   "outputs": [],
   "source": [
    "bag_clf = BaggingClassifier(\n",
    "    DecisionTreeClassifier(splitter=\"random\", max_leaf_nodes=16),\n",
    "    n_estimators=500, max_samples=1.0, bootstrap=True, n_jobs=-1\n",
    ")"
   ]
  },
  {
   "cell_type": "markdown",
   "id": "a5582926",
   "metadata": {},
   "source": [
    "## Importância da Característica"
   ]
  },
  {
   "cell_type": "markdown",
   "id": "238e7bac",
   "metadata": {},
   "source": [
    "*O código a seguir treina um RandomForestClassifier no conjunto de\n",
    "dados da íris e exibe cada importância desta característica.*"
   ]
  },
  {
   "cell_type": "code",
   "execution_count": 208,
   "id": "119db802",
   "metadata": {},
   "outputs": [],
   "source": [
    "from sklearn.datasets import load_iris"
   ]
  },
  {
   "cell_type": "code",
   "execution_count": 206,
   "id": "e0f6b12f",
   "metadata": {},
   "outputs": [],
   "source": [
    "iris = load_iris()"
   ]
  },
  {
   "cell_type": "code",
   "execution_count": 215,
   "id": "a334bdfd",
   "metadata": {},
   "outputs": [
    {
     "name": "stdout",
     "output_type": "stream",
     "text": [
      "sepal length (cm) 0.08622398604531423\n",
      "sepal width (cm) 0.02264141257373865\n",
      "petal length (cm) 0.4449600970379279\n",
      "petal width (cm) 0.4461745043430193\n"
     ]
    }
   ],
   "source": [
    "rnd_clf = RandomForestClassifier(n_estimators=500, n_jobs=-1)\n",
    "rnd_clf.fit(iris[\"data\"], iris[\"target\"])\n",
    "\n",
    "for name, score in zip(iris[\"feature_names\"], rnd_clf.feature_importances_): \n",
    "    print(name, score)"
   ]
  },
  {
   "cell_type": "markdown",
   "id": "316393eb",
   "metadata": {},
   "source": [
    "## Boosting e AdaBoost"
   ]
  },
  {
   "cell_type": "code",
   "execution_count": 216,
   "id": "891b6ed3",
   "metadata": {},
   "outputs": [],
   "source": [
    "from sklearn.ensemble import AdaBoostClassifier"
   ]
  },
  {
   "cell_type": "code",
   "execution_count": 219,
   "id": "b4eaead6",
   "metadata": {},
   "outputs": [
    {
     "data": {
      "text/plain": [
       "AdaBoostClassifier(base_estimator=DecisionTreeClassifier(max_depth=1),\n",
       "                   learning_rate=0.5, n_estimators=200)"
      ]
     },
     "execution_count": 219,
     "metadata": {},
     "output_type": "execute_result"
    }
   ],
   "source": [
    "ada_clf = AdaBoostClassifier(\n",
    "DecisionTreeClassifier(max_depth=1), n_estimators=200,\n",
    "algorithm=\"SAMME.R\", learning_rate=0.5)\n",
    "ada_clf.fit(X_train, y_train)"
   ]
  },
  {
   "cell_type": "markdown",
   "id": "d1f120ce",
   "metadata": {},
   "source": [
    "## Gradiente Boosting"
   ]
  },
  {
   "cell_type": "code",
   "execution_count": 220,
   "id": "550dda85",
   "metadata": {},
   "outputs": [],
   "source": [
    "from sklearn.tree import DecisionTreeRegressor"
   ]
  },
  {
   "cell_type": "code",
   "execution_count": 221,
   "id": "0efe790a",
   "metadata": {},
   "outputs": [
    {
     "data": {
      "text/plain": [
       "DecisionTreeRegressor(max_depth=2)"
      ]
     },
     "execution_count": 221,
     "metadata": {},
     "output_type": "execute_result"
    }
   ],
   "source": [
    "tree_reg1 = DecisionTreeRegressor(max_depth=2)\n",
    "tree_reg1.fit(X,y)"
   ]
  },
  {
   "cell_type": "markdown",
   "id": "bb4843c8",
   "metadata": {},
   "source": [
    "Treinando um segundo `DecisionTreeRegressor` nos erros residuais cometidos pelo\n",
    "primeiro previsor:"
   ]
  },
  {
   "cell_type": "code",
   "execution_count": 222,
   "id": "4cfeb85f",
   "metadata": {},
   "outputs": [
    {
     "data": {
      "text/plain": [
       "DecisionTreeRegressor(max_depth=2)"
      ]
     },
     "execution_count": 222,
     "metadata": {},
     "output_type": "execute_result"
    }
   ],
   "source": [
    "y2 = y - tree_reg1.predict(X)\n",
    "tree_reg2 = DecisionTreeRegressor(max_depth=2)\n",
    "tree_reg2.fit(X, y2)"
   ]
  },
  {
   "cell_type": "markdown",
   "id": "3c6c5dc7",
   "metadata": {},
   "source": [
    "Treinando o terceiro regressor nos erros residuais cometidos pelo segundo previsor"
   ]
  },
  {
   "cell_type": "code",
   "execution_count": 223,
   "id": "43d23ee6",
   "metadata": {},
   "outputs": [
    {
     "data": {
      "text/plain": [
       "DecisionTreeRegressor(max_depth=2)"
      ]
     },
     "execution_count": 223,
     "metadata": {},
     "output_type": "execute_result"
    }
   ],
   "source": [
    "y3 = y2 - tree_reg2.predict(X)\n",
    "tree_reg3 = DecisionTreeRegressor(max_depth=2)\n",
    "tree_reg3.fit(X, y3)"
   ]
  },
  {
   "cell_type": "markdown",
   "id": "3c450d54",
   "metadata": {},
   "source": [
    "Agora, temos um ensemble contendo três árvores. Ele pode fazer previsões em uma nova\n",
    "instância adicionando as previsões de todas as árvores:"
   ]
  },
  {
   "cell_type": "code",
   "execution_count": 231,
   "id": "4496d42c",
   "metadata": {},
   "outputs": [
    {
     "data": {
      "text/plain": [
       "array([ 0.00776297,  0.00776297,  0.00776297,  0.00776297,  0.00776297,\n",
       "        0.00776297,  0.00776297,  0.00776297,  0.00776297,  0.00776297,\n",
       "        0.00776297,  0.00776297,  0.00776297,  0.00776297,  0.00776297,\n",
       "        0.00776297,  0.00776297,  0.00776297,  0.00776297,  0.00776297,\n",
       "        0.00776297,  0.00776297,  0.00776297,  0.00776297,  0.00776297,\n",
       "        0.00776297,  0.00776297,  0.00776297,  0.00776297,  0.00776297,\n",
       "        0.00776297,  0.00776297,  0.00776297,  0.00776297,  0.00776297,\n",
       "        0.00776297,  0.00776297,  0.00776297,  0.00776297,  0.00776297,\n",
       "        0.00776297,  0.00776297,  0.00776297,  0.00776297,  0.00776297,\n",
       "        0.00776297,  0.00776297,  0.00776297,  0.00776297,  0.00776297,\n",
       "        0.00776297,  0.00776297,  0.00776297,  0.00776297,  0.00776297,\n",
       "        0.00776297, -0.15362812,  0.00776297,  0.00776297,  0.00776297,\n",
       "        0.00776297,  0.00776297,  0.00776297,  0.00776297,  0.00776297,\n",
       "        0.00776297,  0.00776297,  0.00776297,  0.00776297,  0.00776297,\n",
       "        0.66464032,  0.00776297,  0.00776297,  0.00776297,  0.00776297,\n",
       "        0.00776297,  0.00776297,  0.63289429,  0.00776297,  0.00776297,\n",
       "        0.00776297,  0.00776297,  0.00776297,  0.47108844,  0.00776297,\n",
       "       -0.15362812,  0.00776297,  0.00776297,  0.00776297,  0.00776297,\n",
       "        0.00776297,  0.00776297,  0.00776297,  0.00776297,  0.00776297,\n",
       "        0.00776297,  0.00776297,  0.00776297,  0.00776297,  0.00776297,\n",
       "        0.99797366,  0.96622763,  0.99797366,  0.99797366,  0.99797366,\n",
       "        0.99797366,  1.        ,  0.99797366,  0.99797366,  0.99797366,\n",
       "        0.96622763,  0.96622763,  0.96622763,  0.96622763,  0.96622763,\n",
       "        0.96622763,  0.96622763,  0.99797366,  0.99797366,  0.63247952,\n",
       "        0.99797366,  0.99797366,  0.99797366,  0.99797366,  0.99797366,\n",
       "        0.99797366,  0.66464032,  0.99797366,  0.99797366,  0.8361678 ,\n",
       "        0.99797366,  0.99797366,  0.99797366,  0.63247952,  0.99755889,\n",
       "        0.99797366,  0.99797366,  0.96622763,  0.66464032,  0.96622763,\n",
       "        0.99797366,  0.96622763,  0.96622763,  0.99797366,  0.99797366,\n",
       "        0.96622763,  0.96622763,  0.96622763,  0.96622763,  0.96622763])"
      ]
     },
     "execution_count": 231,
     "metadata": {},
     "output_type": "execute_result"
    }
   ],
   "source": [
    "y_pred = sum(tree.predict(X) for tree in (tree_reg1, tree_reg2, tree_reg3))\n",
    "y_pred"
   ]
  },
  {
   "cell_type": "markdown",
   "id": "23556949",
   "metadata": {},
   "source": [
    "**Criando o mesmo ensemble anterior, porém com a classse `GradienteBoostingRegressor`**"
   ]
  },
  {
   "cell_type": "code",
   "execution_count": 233,
   "id": "09a94308",
   "metadata": {},
   "outputs": [],
   "source": [
    "from sklearn.ensemble import GradientBoostingRegressor"
   ]
  },
  {
   "cell_type": "code",
   "execution_count": 235,
   "id": "5601abc5",
   "metadata": {},
   "outputs": [
    {
     "data": {
      "text/plain": [
       "GradientBoostingRegressor(learning_rate=1.0, max_depth=2, n_estimators=3)"
      ]
     },
     "execution_count": 235,
     "metadata": {},
     "output_type": "execute_result"
    }
   ],
   "source": [
    "gbrt = GradientBoostingRegressor(max_depth=2, n_estimators=3, learning_rate=1.0)\n",
    "gbrt.fit(X,y)"
   ]
  },
  {
   "cell_type": "markdown",
   "id": "d290bc0a",
   "metadata": {},
   "source": [
    "O código a seguir\n",
    "treina um ensemble GBRT com 120 árvores e mede o erro de validação em cada estágio\n",
    "do treinamento para encontrar o número ideal de árvores e, utilizando o número ideal\n",
    "de árvores, finalmente treina outro ensemble GBRT:"
   ]
  },
  {
   "cell_type": "code",
   "execution_count": 236,
   "id": "65ea6d1b",
   "metadata": {},
   "outputs": [],
   "source": [
    "import numpy as np\n",
    "from sklearn.model_selection import train_test_split\n",
    "from sklearn.metrics import mean_squared_error"
   ]
  },
  {
   "cell_type": "code",
   "execution_count": 237,
   "id": "d563d5d6",
   "metadata": {},
   "outputs": [],
   "source": [
    "X_train, X_val, y_train, y_val = train_test_split(X,y)"
   ]
  },
  {
   "cell_type": "code",
   "execution_count": 238,
   "id": "2793a33e",
   "metadata": {},
   "outputs": [
    {
     "data": {
      "text/plain": [
       "GradientBoostingRegressor(max_depth=2, n_estimators=120)"
      ]
     },
     "execution_count": 238,
     "metadata": {},
     "output_type": "execute_result"
    }
   ],
   "source": [
    "gbrt = GradientBoostingRegressor(max_depth=2, n_estimators=120)\n",
    "gbrt.fit(X_train, y_train)"
   ]
  },
  {
   "cell_type": "code",
   "execution_count": 241,
   "id": "740b4266",
   "metadata": {},
   "outputs": [],
   "source": [
    "errors = [mean_squared_error(y_val, y_pred) \n",
    "          for y_pred in gbrt.staged_predict(X_val)]\n",
    "bst_n_estimators = np.argmin(errors)"
   ]
  },
  {
   "cell_type": "code",
   "execution_count": 243,
   "id": "ee687f5d",
   "metadata": {},
   "outputs": [
    {
     "data": {
      "text/plain": [
       "GradientBoostingRegressor(max_depth=2, n_estimators=109)"
      ]
     },
     "execution_count": 243,
     "metadata": {},
     "output_type": "execute_result"
    }
   ],
   "source": [
    "gbrt_best = GradientBoostingRegressor(max_depth=2, n_estimators=bst_n_estimators)\n",
    "gbrt_best.fit(X_train, y_train)"
   ]
  },
  {
   "cell_type": "markdown",
   "id": "4feb8332",
   "metadata": {},
   "source": [
    "**Implementando uma parada antecipada com o parâmetro `warm_start=True`**\n",
    "\n",
    "Para que serve? \n",
    "\n",
    "*Uma parada antecipada interrompe antecipadamente\n",
    "o treinamento (em vez de treinar primeiro um grande número de árvores e em seguida\n",
    "olhar para trás para encontrar o número ideal).*\n",
    "\n",
    "O código a seguir\n",
    "deixa de treinar quando o erro de validação não melhora por cinco iterações seguidas:"
   ]
  },
  {
   "cell_type": "code",
   "execution_count": 244,
   "id": "78995f92",
   "metadata": {},
   "outputs": [],
   "source": [
    "gbrt = GradientBoostingRegressor(max_depth=2, warm_start=True)"
   ]
  },
  {
   "cell_type": "code",
   "execution_count": 246,
   "id": "48a86a59",
   "metadata": {},
   "outputs": [],
   "source": [
    "min_val_error = float(\"inf\")\n",
    "error_going_up = 0\n",
    "for n_stmators in range(1, 120):\n",
    "    gbrt.n_stmators = n_stmators\n",
    "    gbrt.fit(X_train, y_train)\n",
    "    y_pred = gbrt.predict(X_val)\n",
    "    \n",
    "    val_error = mean_squared_error(y_val, y_pred)\n",
    "    if val_error < min_val_error: \n",
    "        min_val_error = val_error\n",
    "        error_going_up = 0\n",
    "    else:\n",
    "        error_going_up +=1\n",
    "        if error_going_up == 5:\n",
    "            break #parada antecipada"
   ]
  },
  {
   "cell_type": "code",
   "execution_count": null,
   "id": "123c1040",
   "metadata": {},
   "outputs": [],
   "source": []
  }
 ],
 "metadata": {
  "kernelspec": {
   "display_name": "Python 3",
   "language": "python",
   "name": "python3"
  },
  "language_info": {
   "codemirror_mode": {
    "name": "ipython",
    "version": 3
   },
   "file_extension": ".py",
   "mimetype": "text/x-python",
   "name": "python",
   "nbconvert_exporter": "python",
   "pygments_lexer": "ipython3",
   "version": "3.8.8"
  }
 },
 "nbformat": 4,
 "nbformat_minor": 5
}
