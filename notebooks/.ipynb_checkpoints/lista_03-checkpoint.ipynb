{
 "cells": [
  {
   "cell_type": "markdown",
   "metadata": {
    "id": "NGV-JwlmtXKG"
   },
   "source": [
    "## **Regressão Logística no conjunto de dados de dígitos**"
   ]
  },
  {
   "cell_type": "markdown",
   "metadata": {
    "id": "8dCGyl12tiQV"
   },
   "source": [
    "**Carregando os Dados**"
   ]
  },
  {
   "cell_type": "code",
   "execution_count": null,
   "metadata": {
    "id": "sB3qEGUzsMUJ"
   },
   "outputs": [],
   "source": [
    "from sklearn.datasets import load_digits\n",
    "digits = load_digits()"
   ]
  },
  {
   "cell_type": "code",
   "execution_count": null,
   "metadata": {
    "colab": {
     "base_uri": "https://localhost:8080/"
    },
    "executionInfo": {
     "elapsed": 421,
     "status": "ok",
     "timestamp": 1631210693443,
     "user": {
      "displayName": "Leidiana Iza Andrade Freitas",
      "photoUrl": "",
      "userId": "01064954486875378846"
     },
     "user_tz": 180
    },
    "id": "Zf3o-fn-t4hF",
    "outputId": "47edc57e-acf5-4e89-cdda-773ab0ada9b4"
   },
   "outputs": [
    {
     "name": "stdout",
     "output_type": "stream",
     "text": [
      "Image Data shape (1797, 64)\n",
      "Label Data Shape (1797,)\n"
     ]
    }
   ],
   "source": [
    "# Mostra que existem 1797 imagens (8 por 8 imagens para uma dimensionalidade de 64)\n",
    "print(\"Image Data shape\", digits.data.shape)\n",
    "# Mostra que há 1797 rótulos ( inteiros de 0 a 9)\n",
    "print(\"Label Data Shape\", digits.target.shape)"
   ]
  },
  {
   "cell_type": "markdown",
   "metadata": {
    "id": "cNAYx9javAhg"
   },
   "source": [
    "**Mostrando as imagens e rótulos (conjunto de dados e dígitos)**"
   ]
  },
  {
   "cell_type": "code",
   "execution_count": null,
   "metadata": {
    "colab": {
     "base_uri": "https://localhost:8080/",
     "height": 163
    },
    "executionInfo": {
     "elapsed": 1690,
     "status": "ok",
     "timestamp": 1631211172809,
     "user": {
      "displayName": "Leidiana Iza Andrade Freitas",
      "photoUrl": "",
      "userId": "01064954486875378846"
     },
     "user_tz": 180
    },
    "id": "HMXdeg4SuUtf",
    "outputId": "bee5034d-7579-491e-ed78-829f1830a4b0"
   },
   "outputs": [
    {
     "data": {
      "image/png": "[encoded data removed]",
      "text/plain": [
       "<Figure size 1440x288 with 5 Axes>"
      ]
     },
     "metadata": {
      "needs_background": "light"
     },
     "output_type": "display_data"
    }
   ],
   "source": [
    "# Esta seçao é apenas para mostrar o tipo de imagens e rótulos. Isso ajuda na visualização dos dados e mostra com o que estamos trabalhando\n",
    "import numpy as np\n",
    "import matplotlib.pyplot as plt\n",
    "\n",
    "plt.figure (figsize = (20,4))\n",
    "for index, (image, label) in enumerate (zip(digits.data[0:5], digits.target[0:5])):\n",
    "  plt.subplot(1,5, index + 1)\n",
    "  plt.imshow(np.reshape(image, (8,8)), cmap=plt.cm.gray)\n",
    "  plt.title('Training: %i\\n' % label, fontsize = 20)"
   ]
  },
  {
   "cell_type": "markdown",
   "metadata": {
    "id": "uIwSp0CLx2cf"
   },
   "source": [
    "**Dividindo os dados em conjuntos de treino e teste(cojuntos de dígitos)**"
   ]
  },
  {
   "cell_type": "markdown",
   "metadata": {
    "id": "0cXn4C_pzpMm"
   },
   "source": [
    "*A criação de conjuntos de treino e teste possibilitam que o treinamento do modelo de classificação generalize bem quando trabalhar com outros dados*"
   ]
  },
  {
   "cell_type": "code",
   "execution_count": null,
   "metadata": {
    "id": "OTGeEQYAwScq"
   },
   "outputs": [],
   "source": [
    "from sklearn.model_selection import train_test_split\n",
    "x_train, x_test, y_train, y_test = train_test_split(digits.data, digits.target, test_size=0.25, random_state=0)"
   ]
  },
  {
   "cell_type": "markdown",
   "metadata": {
    "id": "yGEuEeR1z7-9"
   },
   "source": [
    "**Padrão de modelagem de 4 etapas Scikit-learn (conjunto de dados de dígitos)**"
   ]
  },
  {
   "cell_type": "code",
   "execution_count": null,
   "metadata": {
    "id": "W7J2_2KgyW19"
   },
   "outputs": [],
   "source": [
    "# Passo 1 - Importanto o modelo que iremos usar\n",
    "from sklearn.linear_model import LogisticRegression"
   ]
  },
  {
   "cell_type": "code",
   "execution_count": null,
   "metadata": {
    "id": "ELKLdjGf0ZL-"
   },
   "outputs": [],
   "source": [
    "# Passo 2 - Instanciando o modelo\n",
    "# Todos os parâmetros não especificados são definidos por default\n",
    "logisticRegr = LogisticRegression()\n"
   ]
  },
  {
   "cell_type": "code",
   "execution_count": null,
   "metadata": {
    "colab": {
     "base_uri": "https://localhost:8080/"
    },
    "executionInfo": {
     "elapsed": 653,
     "status": "ok",
     "timestamp": 1631212512519,
     "user": {
      "displayName": "Leidiana Iza Andrade Freitas",
      "photoUrl": "",
      "userId": "01064954486875378846"
     },
     "user_tz": 180
    },
    "id": "3wcVprZg1V63",
    "outputId": "9cbc2123-6b5a-42d9-923e-2fcdceebaff8"
   },
   "outputs": [
    {
     "name": "stderr",
     "output_type": "stream",
     "text": [
      "/usr/local/lib/python3.7/dist-packages/sklearn/linear_model/_logistic.py:940: ConvergenceWarning: lbfgs failed to converge (status=1):\n",
      "STOP: TOTAL NO. of ITERATIONS REACHED LIMIT.\n",
      "\n",
      "Increase the number of iterations (max_iter) or scale the data as shown in:\n",
      "    https://scikit-learn.org/stable/modules/preprocessing.html\n",
      "Please also refer to the documentation for alternative solver options:\n",
      "    https://scikit-learn.org/stable/modules/linear_model.html#logistic-regression\n",
      "  extra_warning_msg=_LOGISTIC_SOLVER_CONVERGENCE_MSG)\n"
     ]
    },
    {
     "data": {
      "text/plain": [
       "LogisticRegression(C=1.0, class_weight=None, dual=False, fit_intercept=True,\n",
       "                   intercept_scaling=1, l1_ratio=None, max_iter=100,\n",
       "                   multi_class='auto', n_jobs=None, penalty='l2',\n",
       "                   random_state=None, solver='lbfgs', tol=0.0001, verbose=0,\n",
       "                   warm_start=False)"
      ]
     },
     "execution_count": 26,
     "metadata": {},
     "output_type": "execute_result"
    }
   ],
   "source": [
    "# Passo 3 - Treinar o modelo nos dados, armazenando as informações aprendidas com os dados\n",
    "# O modelo está aprendendo a relaçao entre 'x_train' e os rótulos de 'y_train\n",
    "logisticRegr.fit(x_train, y_train)  "
   ]
  },
  {
   "cell_type": "code",
   "execution_count": null,
   "metadata": {
    "colab": {
     "base_uri": "https://localhost:8080/"
    },
    "executionInfo": {
     "elapsed": 426,
     "status": "ok",
     "timestamp": 1631212950168,
     "user": {
      "displayName": "Leidiana Iza Andrade Freitas",
      "photoUrl": "",
      "userId": "01064954486875378846"
     },
     "user_tz": 180
    },
    "id": "zlCVw_IN16Bb",
    "outputId": "c0d3a5bf-f718-494d-999b-02f405827661"
   },
   "outputs": [
    {
     "data": {
      "text/plain": [
       "array([2])"
      ]
     },
     "execution_count": 29,
     "metadata": {},
     "output_type": "execute_result"
    }
   ],
   "source": [
    "# Passo 4 - Prever rótulos para novos dados (novas imagens) usando as informações que o madelo aprendeu durante o processo de treinamento\n",
    "# Retorna um array numpy \n",
    "# Predict para uma observação (imagem)\n",
    "logisticRegr.predict(x_test [0].reshape(1, -1))"
   ]
  },
  {
   "cell_type": "code",
   "execution_count": null,
   "metadata": {
    "colab": {
     "base_uri": "https://localhost:8080/"
    },
    "executionInfo": {
     "elapsed": 418,
     "status": "ok",
     "timestamp": 1631213029696,
     "user": {
      "displayName": "Leidiana Iza Andrade Freitas",
      "photoUrl": "",
      "userId": "01064954486875378846"
     },
     "user_tz": 180
    },
    "id": "DLXN2kta3Vhd",
    "outputId": "4f716b98-57c9-4a73-ab2f-f1cf5da69151"
   },
   "outputs": [
    {
     "data": {
      "text/plain": [
       "array([2, 8, 2, 6, 6, 7, 1, 9, 8, 5])"
      ]
     },
     "execution_count": 30,
     "metadata": {},
     "output_type": "execute_result"
    }
   ],
   "source": [
    "# Prevendo múltiplas observações (imagens) de uma só vez\n",
    "logisticRegr.predict(x_test [0:10])"
   ]
  },
  {
   "cell_type": "code",
   "execution_count": null,
   "metadata": {
    "id": "mx15JzX034WE"
   },
   "outputs": [],
   "source": [
    "# Fazendo previsões em todos os dados de teste\n",
    "predictions = logisticRegr.predict(x_test)"
   ]
  },
  {
   "cell_type": "markdown",
   "metadata": {
    "id": "fFhSDmFh4Z-J"
   },
   "source": [
    "**Medindo o desempenho do modelo (conjunto de dados de dígitos)**"
   ]
  },
  {
   "cell_type": "markdown",
   "metadata": {
    "id": "o5E4lQ3m5HBz"
   },
   "source": [
    "*Embora existam outras maneiras de medir o desempenho do modelo (precisão, recall, pontuação F1, curva ROC , etc), vamos manter isso simples e usar a precisão como nossa métrica.\n",
    "Para fazer isso, veremos o desempenho do modelo nos novos dados (conjunto de teste)\n",
    "a precisão é definida como:\n",
    "(fração de previsões corretas): previsões corretas / número total de pontos de dados*"
   ]
  },
  {
   "cell_type": "code",
   "execution_count": null,
   "metadata": {
    "colab": {
     "base_uri": "https://localhost:8080/"
    },
    "executionInfo": {
     "elapsed": 418,
     "status": "ok",
     "timestamp": 1631213553653,
     "user": {
      "displayName": "Leidiana Iza Andrade Freitas",
      "photoUrl": "",
      "userId": "01064954486875378846"
     },
     "user_tz": 180
    },
    "id": "IOlE8diy4Vrm",
    "outputId": "cb3eba9c-3f43-4825-8007-82375aa5cec3"
   },
   "outputs": [
    {
     "name": "stdout",
     "output_type": "stream",
     "text": [
      "0.9511111111111111\n"
     ]
    }
   ],
   "source": [
    "# Usando o método de score para obter a precisão/acurácia do modelo\n",
    "score = logisticRegr.score(x_test, y_test)\n",
    "print (score)"
   ]
  },
  {
   "cell_type": "markdown",
   "metadata": {
    "id": "25275Kwa6AmC"
   },
   "source": [
    "**Matriz de Confusão (conjuto de dados de dígitos)**"
   ]
  },
  {
   "cell_type": "markdown",
   "metadata": {
    "id": "wBws2BvH6u7_"
   },
   "source": [
    "*Uma matriz de confusão é uma tabela frequentemente usada para descrever o desempenho de um modelo de classificação (ou “classificador”) em um conjunto de dados de teste para os quais os verdadeiros valores são conhecidos. Nesta seção,são mostrados apenas dois pacotes python (Seaborn e Matplotlib) para tornar as matrizes de confusão mais compreensíveis e visualmente atraentes.*"
   ]
  },
  {
   "cell_type": "code",
   "execution_count": null,
   "metadata": {
    "id": "AgtSErVd6mkS"
   },
   "outputs": [],
   "source": [
    "import matplotlib.pyplot as plt\n",
    "import seaborn as sns \n",
    "from sklearn import metrics"
   ]
  },
  {
   "cell_type": "markdown",
   "metadata": {
    "id": "dBYYiDXs7Wiq"
   },
   "source": [
    "*A matriz de confusão abaixo não é visualmente super informativa ou visualmente atraente.*"
   ]
  },
  {
   "cell_type": "code",
   "execution_count": null,
   "metadata": {
    "colab": {
     "base_uri": "https://localhost:8080/"
    },
    "executionInfo": {
     "elapsed": 1245,
     "status": "ok",
     "timestamp": 1631213991984,
     "user": {
      "displayName": "Leidiana Iza Andrade Freitas",
      "photoUrl": "",
      "userId": "01064954486875378846"
     },
     "user_tz": 180
    },
    "id": "MCPwZ9RF6Pt5",
    "outputId": "eaa52b8f-afa5-4f7c-c07e-55be09fd5575"
   },
   "outputs": [
    {
     "name": "stdout",
     "output_type": "stream",
     "text": [
      "[[37  0  0  0  0  0  0  0  0  0]\n",
      " [ 0 40  0  0  0  0  0  0  2  1]\n",
      " [ 0  1 40  3  0  0  0  0  0  0]\n",
      " [ 0  0  0 43  0  0  0  0  1  1]\n",
      " [ 0  0  0  0 37  0  0  1  0  0]\n",
      " [ 0  0  0  0  0 46  0  0  0  2]\n",
      " [ 0  1  0  0  0  0 51  0  0  0]\n",
      " [ 0  0  0  1  1  0  0 46  0  0]\n",
      " [ 0  3  1  0  0  0  0  0 43  1]\n",
      " [ 0  0  0  0  0  1  0  0  1 45]]\n"
     ]
    }
   ],
   "source": [
    "cm = metrics.confusion_matrix(y_test, predictions)\n",
    "print(cm)"
   ]
  },
  {
   "cell_type": "markdown",
   "metadata": {
    "id": "OXNBn9zu7vz6"
   },
   "source": [
    "**Método 1 (Seaborn)**"
   ]
  },
  {
   "cell_type": "markdown",
   "metadata": {
    "id": "nknBtnsI79En"
   },
   "source": [
    "*Esse método produz uma matriz de confusão mais compreensível e visualmente legível usando o seaborn .*"
   ]
  },
  {
   "cell_type": "code",
   "execution_count": null,
   "metadata": {
    "colab": {
     "base_uri": "https://localhost:8080/",
     "height": 543
    },
    "executionInfo": {
     "elapsed": 1158,
     "status": "ok",
     "timestamp": 1631215401824,
     "user": {
      "displayName": "Leidiana Iza Andrade Freitas",
      "photoUrl": "",
      "userId": "01064954486875378846"
     },
     "user_tz": 180
    },
    "id": "leTWi6-27jE9",
    "outputId": "406e79ae-bb1a-43c6-da91-2b2225298fdb"
   },
   "outputs": [
    {
     "data": {
      "text/plain": [
       "Text(0.5, 1.0, 'Accuracy Score: 0.9511111111111111')"
      ]
     },
     "execution_count": 51,
     "metadata": {},
     "output_type": "execute_result"
    },
    {
     "data": {
      "image/png": "[encoded data removed]",
      "text/plain": [
       "<Figure size 648x648 with 2 Axes>"
      ]
     },
     "metadata": {
      "needs_background": "light"
     },
     "output_type": "display_data"
    }
   ],
   "source": [
    "plt.figure(figsize=(9,9))\n",
    "sns.heatmap(cm, annot=True, fmt=\".3f\", linewidths=.5, square = True, cmap = 'Blues_r');\n",
    "plt.ylabel('Rótulo atual');\n",
    "plt.xlabel('Rótulo previsto');\n",
    "all_sample_title = 'Accuracy Score: {0}'. format(score)\n",
    "plt.title(all_sample_title, size = 15)"
   ]
  },
  {
   "cell_type": "markdown",
   "metadata": {
    "id": "MWucoPcu90Ss"
   },
   "source": [
    "**Método 2 (Matplotlib)**"
   ]
  },
  {
   "cell_type": "markdown",
   "metadata": {
    "id": "YHDZxpiX-Dxw"
   },
   "source": [
    "*O método 2 é para mostrar que pode ser feito o passo anterior como Matplotlib, no entanto a quantidade de código é maior*"
   ]
  },
  {
   "cell_type": "code",
   "execution_count": 120,
   "metadata": {
    "colab": {
     "base_uri": "https://localhost:8080/",
     "height": 657
    },
    "executionInfo": {
     "elapsed": 1592,
     "status": "ok",
     "timestamp": 1631230168917,
     "user": {
      "displayName": "Leidiana Iza Andrade Freitas",
      "photoUrl": "",
      "userId": "01064954486875378846"
     },
     "user_tz": 180
    },
    "id": "Z0gHbSy38-rk",
    "outputId": "2f50fc75-ea65-439b-81c5-42e8b3841b8d"
   },
   "outputs": [
    {
     "data": {
      "image/png": "[encoded data removed]",
      "text/plain": [
       "<Figure size 648x648 with 2 Axes>"
      ]
     },
     "metadata": {
      "needs_background": "light"
     },
     "output_type": "display_data"
    }
   ],
   "source": [
    "plt.figure(figsize=(9,9))\n",
    "plt.imshow(cm, interpolation='nearest', cmap='Pastel1')\n",
    "plt.title('Matriz de Confusão', size=15)\n",
    "plt.colorbar()\n",
    "tick_marks = np.arange(10)\n",
    "plt.xticks(tick_marks, [\"0\", \"1\", \"2\", \"3\", \"4\", \"5\", \"6\", \"7\", \"8\", \"9\"], rotation=45, size=10)\n",
    "plt.yticks(tick_marks, [\"0\", \"1\", \"2\", \"3\", \"4\", \"5\", \"6\", \"7\", \"8\", \"9\"], rotation=45, size=10)\n",
    "plt.tight_layout()\n",
    "plt.ylabel('Rótulo atual', size=15)\n",
    "plt.xlabel('Rótulo previsto', size = 15)\n",
    "width, height = cm.shape\n",
    "\n",
    "for x in range (width):\n",
    "    for y in range (height):\n",
    "      plt.annotate(str(cm[x][y]), xy=(y, x),\n",
    "      horizontalalignment='center',\n",
    "      verticalalignment='center') "
   ]
  },
  {
   "cell_type": "markdown",
   "metadata": {
    "id": "VbXf4JhtGDVp"
   },
   "source": [
    "## **Regressão Logística (conjunto de dados MNIST_784)**"
   ]
  },
  {
   "cell_type": "markdown",
   "metadata": {
    "id": "cZ33gt78J56W"
   },
   "source": [
    "*O dataset MNIST não vem com o scikit-lean, portanto é necessário importar do fetch_openml* "
   ]
  },
  {
   "cell_type": "code",
   "execution_count": null,
   "metadata": {
    "id": "3ZJvZDZp-nhB"
   },
   "outputs": [],
   "source": [
    "# Carregando o conjunto de dados\n",
    "from sklearn.datasets import fetch_openml\n",
    "mnist = fetch_openml('mnist_784')"
   ]
  },
  {
   "cell_type": "code",
   "execution_count": null,
   "metadata": {
    "colab": {
     "base_uri": "https://localhost:8080/"
    },
    "executionInfo": {
     "elapsed": 440,
     "status": "ok",
     "timestamp": 1631218158804,
     "user": {
      "displayName": "Leidiana Iza Andrade Freitas",
      "photoUrl": "",
      "userId": "01064954486875378846"
     },
     "user_tz": 180
    },
    "id": "1rs4qWrWHAk6",
    "outputId": "a5ea3bcf-4a31-4c38-c898-7e210e7d2b44"
   },
   "outputs": [
    {
     "name": "stdout",
     "output_type": "stream",
     "text": [
      "(70000, 784)\n"
     ]
    }
   ],
   "source": [
    "# Exibindo imagens\n",
    "# Existem 70.000 imagens(28 por 28 imagens para uma dimensionalidade de 784)\n",
    "print(mnist.data.shape)"
   ]
  },
  {
   "cell_type": "code",
   "execution_count": null,
   "metadata": {
    "colab": {
     "base_uri": "https://localhost:8080/"
    },
    "executionInfo": {
     "elapsed": 642,
     "status": "ok",
     "timestamp": 1631218120283,
     "user": {
      "displayName": "Leidiana Iza Andrade Freitas",
      "photoUrl": "",
      "userId": "01064954486875378846"
     },
     "user_tz": 180
    },
    "id": "5hazU-6KLCUq",
    "outputId": "b0c274a9-0651-4b58-d1f6-5aa7b2a0cfda"
   },
   "outputs": [
    {
     "name": "stdout",
     "output_type": "stream",
     "text": [
      "(70000,)\n"
     ]
    }
   ],
   "source": [
    "# Exibindo as etiquetas\n",
    "print(mnist.target.shape)"
   ]
  },
  {
   "cell_type": "markdown",
   "metadata": {
    "id": "nyxoUE-TLgyj"
   },
   "source": [
    "## **Dividindo o dataset (MNIST_784) em conjunto de treino e teste**"
   ]
  },
  {
   "cell_type": "code",
   "execution_count": null,
   "metadata": {
    "id": "9Tqe9o26LTG_"
   },
   "outputs": [],
   "source": [
    "# Esse test_size=1/7.0 cria o tamanho do conjunto de treinamento de 60.000 imagens e o tamanho do conjunto de teste de 10.000.\n",
    "from sklearn.model_selection import train_test_split\n",
    "\n",
    "train_img, test_img, train_lbl, test_lbl = train_test_split(\n",
    "mnist.data, mnist.target, test_size = 1/7.0, random_state = 0)"
   ]
  },
  {
   "cell_type": "markdown",
   "metadata": {
    "id": "uAz-dns-M9uS"
   },
   "source": [
    "**Exibindo imagens e rótulos (MNIST_874)**"
   ]
  },
  {
   "cell_type": "code",
   "execution_count": null,
   "metadata": {
    "colab": {
     "base_uri": "https://localhost:8080/",
     "height": 162
    },
    "executionInfo": {
     "elapsed": 1107,
     "status": "ok",
     "timestamp": 1631219628570,
     "user": {
      "displayName": "Leidiana Iza Andrade Freitas",
      "photoUrl": "",
      "userId": "01064954486875378846"
     },
     "user_tz": 180
    },
    "id": "9VPtUiARMCIt",
    "outputId": "437455cb-a39a-4f33-dfdc-2fac09d89b84"
   },
   "outputs": [
    {
     "data": {
      "image/png": "[encoded data removed]",
      "text/plain": [
       "<Figure size 1440x288 with 5 Axes>"
      ]
     },
     "metadata": {
      "needs_background": "light"
     },
     "output_type": "display_data"
    }
   ],
   "source": [
    "import numpy as np\n",
    "import matplotlib.pyplot as plt\n",
    "\n",
    "plt.figure(figsize=(20,4))\n",
    "for index, (image, label) in enumerate (zip(train_img[0:5], train_lbl[0:5])):\n",
    "  plt.subplot(1,5, index + 1)\n",
    "  plt.imshow(np.reshape(image, (28,28)), cmap=plt.cm.gray)\n",
    "  plt.title('Treinamento: %s\\n' % label, fontsize = 20)"
   ]
  },
  {
   "cell_type": "markdown",
   "metadata": {
    "id": "mRSBlUWzRisp"
   },
   "source": [
    "**Padrão de modelagem de 4 etapas Scikit-learn (MNIST_784)**"
   ]
  },
  {
   "cell_type": "code",
   "execution_count": null,
   "metadata": {
    "id": "aYjfGroXOmFU"
   },
   "outputs": [],
   "source": [
    "# Passo 1 - Importanto o modelo que queremos usar\n",
    "# No sklearn, todos os modelos de aprendizado de máquina são implementados como classes Python\n",
    "from sklearn.linear_model import LogisticRegression"
   ]
  },
  {
   "cell_type": "code",
   "execution_count": null,
   "metadata": {
    "id": "7qz3en4pSaUa"
   },
   "outputs": [],
   "source": [
    "# Passo 2 - Instanciando o modelo \n",
    "logisticRegr = LogisticRegression (solver = 'lbfgs')"
   ]
  },
  {
   "cell_type": "code",
   "execution_count": null,
   "metadata": {
    "colab": {
     "base_uri": "https://localhost:8080/"
    },
    "executionInfo": {
     "elapsed": 47123,
     "status": "ok",
     "timestamp": 1631220714932,
     "user": {
      "displayName": "Leidiana Iza Andrade Freitas",
      "photoUrl": "",
      "userId": "01064954486875378846"
     },
     "user_tz": 180
    },
    "id": "7r46WMyRUgci",
    "outputId": "ad5dcba5-9940-461c-85f1-bc56a95f4919"
   },
   "outputs": [
    {
     "name": "stderr",
     "output_type": "stream",
     "text": [
      "/usr/local/lib/python3.7/dist-packages/sklearn/linear_model/_logistic.py:940: ConvergenceWarning: lbfgs failed to converge (status=1):\n",
      "STOP: TOTAL NO. of ITERATIONS REACHED LIMIT.\n",
      "\n",
      "Increase the number of iterations (max_iter) or scale the data as shown in:\n",
      "    https://scikit-learn.org/stable/modules/preprocessing.html\n",
      "Please also refer to the documentation for alternative solver options:\n",
      "    https://scikit-learn.org/stable/modules/linear_model.html#logistic-regression\n",
      "  extra_warning_msg=_LOGISTIC_SOLVER_CONVERGENCE_MSG)\n"
     ]
    },
    {
     "data": {
      "text/plain": [
       "LogisticRegression(C=1.0, class_weight=None, dual=False, fit_intercept=True,\n",
       "                   intercept_scaling=1, l1_ratio=None, max_iter=100,\n",
       "                   multi_class='auto', n_jobs=None, penalty='l2',\n",
       "                   random_state=None, solver='lbfgs', tol=0.0001, verbose=0,\n",
       "                   warm_start=False)"
      ]
     },
     "execution_count": 107,
     "metadata": {},
     "output_type": "execute_result"
    }
   ],
   "source": [
    "# Passo 3 - Treinando o modelo nos dados, armazenando as informações aprendidas com eles\n",
    "# O modelo está aprendendo a realação entre x(dígitos) e y(rótulos)\n",
    "logisticRegr.fit(train_img, train_lbl)"
   ]
  },
  {
   "cell_type": "code",
   "execution_count": null,
   "metadata": {
    "colab": {
     "base_uri": "https://localhost:8080/"
    },
    "executionInfo": {
     "elapsed": 423,
     "status": "ok",
     "timestamp": 1631221339842,
     "user": {
      "displayName": "Leidiana Iza Andrade Freitas",
      "photoUrl": "",
      "userId": "01064954486875378846"
     },
     "user_tz": 180
    },
    "id": "93lcCO-GVBOF",
    "outputId": "63ac0f7b-591f-4e13-899e-dddaec5bb0e6"
   },
   "outputs": [
    {
     "data": {
      "text/plain": [
       "array(['0'], dtype=object)"
      ]
     },
     "execution_count": 108,
     "metadata": {},
     "output_type": "execute_result"
    }
   ],
   "source": [
    "# Passo 4 - prevendo rótulos de novos dados (novas imagens) usando as informações que o modelo aprendeu durante o processo de treinamento do modelo\n",
    "# Retorna uma matriz Numpy\n",
    "# Predição para uma observação (uma imagem)\n",
    "logisticRegr.predict(test_img[0].reshape(1,-1)) "
   ]
  },
  {
   "cell_type": "code",
   "execution_count": null,
   "metadata": {
    "colab": {
     "base_uri": "https://localhost:8080/"
    },
    "executionInfo": {
     "elapsed": 15,
     "status": "ok",
     "timestamp": 1631221440979,
     "user": {
      "displayName": "Leidiana Iza Andrade Freitas",
      "photoUrl": "",
      "userId": "01064954486875378846"
     },
     "user_tz": 180
    },
    "id": "iB32iiWqXlMM",
    "outputId": "0e2c4854-f6a9-42a2-c8b0-8951828db244"
   },
   "outputs": [
    {
     "data": {
      "text/plain": [
       "array(['0', '4', '1', '2', '4', '7', '7', '1', '1', '7'], dtype=object)"
      ]
     },
     "execution_count": 111,
     "metadata": {},
     "output_type": "execute_result"
    }
   ],
   "source": [
    "# Predição para múltiplas observações (várias imagens) de uma vez\n",
    "logisticRegr.predict(test_img[0:10])"
   ]
  },
  {
   "cell_type": "code",
   "execution_count": null,
   "metadata": {
    "id": "W2PG1Aj-X3-X"
   },
   "outputs": [],
   "source": [
    "# "
   ]
  }
 ],
 "metadata": {
  "colab": {
   "authorship_tag": "ABX9TyOJz/hPoa9jyWIrwClnF7mV",
   "name": "aula_04_rl.ipynb",
   "provenance": []
  },
  "kernelspec": {
   "display_name": "Python 3",
   "language": "python",
   "name": "python3"
  },
  "language_info": {
   "codemirror_mode": {
    "name": "ipython",
    "version": 3
   },
   "file_extension": ".py",
   "mimetype": "text/x-python",
   "name": "python",
   "nbconvert_exporter": "python",
   "pygments_lexer": "ipython3",
   "version": "3.8.8"
  }
 },
 "nbformat": 4,
 "nbformat_minor": 1
}
