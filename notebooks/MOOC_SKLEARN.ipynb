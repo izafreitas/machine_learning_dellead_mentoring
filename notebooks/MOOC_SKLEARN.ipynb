{
 "cells": [
  {
   "cell_type": "markdown",
   "id": "718e73d7",
   "metadata": {},
   "source": [
    "**Gerando matriz com numpy**"
   ]
  },
  {
   "cell_type": "code",
   "execution_count": 6,
   "id": "e168b736",
   "metadata": {},
   "outputs": [],
   "source": [
    "import numpy as np"
   ]
  },
  {
   "cell_type": "code",
   "execution_count": 27,
   "id": "e0dbc58f",
   "metadata": {},
   "outputs": [
    {
     "name": "stdout",
     "output_type": "stream",
     "text": [
      "Array x:\n",
      "[[0.95290939 0.99438538 0.86564083 ... 0.84735179 0.0262529  0.74662568]\n",
      " [0.89117452 0.53393411 0.26295133 ... 0.80394553 0.32787719 0.08929154]\n",
      " [0.01959983 0.22355006 0.53970704 ... 0.66491355 0.21941999 0.26694724]\n",
      " ...\n",
      " [0.95334978 0.99830533 0.687086   ... 0.98489691 0.77682589 0.71655169]\n",
      " [0.69622551 0.31078936 0.75314716 ... 0.65075083 0.94343684 0.33947794]\n",
      " [0.37054918 0.57367366 0.93149318 ... 0.53750298 0.29104263 0.03512582]]\n"
     ]
    }
   ],
   "source": [
    "x = np.random.rand (100, 100000) \n",
    "print(\"Array x:\" ) \n",
    "print(x)"
   ]
  },
  {
   "cell_type": "code",
   "execution_count": 13,
   "id": "2262077b",
   "metadata": {},
   "outputs": [
    {
     "name": "stdout",
     "output_type": "stream",
     "text": [
      "\n",
      " Shape of Array x:\n"
     ]
    }
   ],
   "source": [
    "print(\"\\n Shape of Array x:\") "
   ]
  },
  {
   "cell_type": "code",
   "execution_count": 14,
   "id": "7f5e5cb1",
   "metadata": {},
   "outputs": [
    {
     "name": "stdout",
     "output_type": "stream",
     "text": [
      "(100, 100)\n"
     ]
    }
   ],
   "source": [
    "print(x.shape)"
   ]
  },
  {
   "cell_type": "code",
   "execution_count": 26,
   "id": "681274fa",
   "metadata": {},
   "outputs": [
    {
     "data": {
      "text/plain": [
       "array([0, 1, 0, 1, 0, 0, 0, 1, 0, 1, 0, 0, 1, 0, 0, 0, 0, 1, 0, 0, 0, 1,\n",
       "       1, 0, 0, 0, 0, 0, 0, 0, 0, 0, 0, 0, 0, 0, 1, 0, 1, 1, 1, 1, 1, 1,\n",
       "       0, 0, 1, 1, 0, 0, 1, 1, 0, 1, 1, 1, 1, 0, 0, 0, 1, 1, 0, 0, 1, 0,\n",
       "       0, 1, 1, 0, 0, 0, 1, 0, 1, 0, 1, 1, 1, 0, 0, 1, 1, 0, 0, 0, 1, 0,\n",
       "       1, 1, 1, 0, 0, 1, 1, 0, 0, 1, 0, 0])"
      ]
     },
     "execution_count": 26,
     "metadata": {},
     "output_type": "execute_result"
    }
   ],
   "source": [
    "np.random.randint(0, 2, size=100)"
   ]
  },
  {
   "cell_type": "code",
   "execution_count": 24,
   "id": "00accb10",
   "metadata": {},
   "outputs": [],
   "source": [
    "import numpy as np\n",
    "\n",
    "# solution\n",
    "rng = np.random.RandomState(42)\n",
    "data, target = rng.randn(100, 100000), rng.randint(0, 2, size=100)"
   ]
  },
  {
   "cell_type": "code",
   "execution_count": 25,
   "id": "cee293a3",
   "metadata": {},
   "outputs": [
    {
     "name": "stdout",
     "output_type": "stream",
     "text": [
      "The mean accuracy is: 0.550\n"
     ]
    }
   ],
   "source": [
    "# solution\n",
    "from sklearn.model_selection import cross_val_score\n",
    "from sklearn.linear_model import LogisticRegression\n",
    "\n",
    "# solution\n",
    "model = LogisticRegression()\n",
    "test_score = cross_val_score(model, data, target, n_jobs=2)\n",
    "print(f\"The mean accuracy is: {test_score.mean():.3f}\")"
   ]
  },
  {
   "cell_type": "code",
   "execution_count": 29,
   "id": "a4a12c99",
   "metadata": {},
   "outputs": [
    {
     "ename": "NameError",
     "evalue": "name 'feature_selector' is not defined",
     "output_type": "error",
     "traceback": [
      "\u001b[1;31m---------------------------------------------------------------------------\u001b[0m",
      "\u001b[1;31mNameError\u001b[0m                                 Traceback (most recent call last)",
      "\u001b[1;32m<ipython-input-29-67b8a16a0529>\u001b[0m in \u001b[0;36m<module>\u001b[1;34m\u001b[0m\n\u001b[0;32m      5\u001b[0m data_train, data_test, target_train, target_test = train_test_split(\n\u001b[0;32m      6\u001b[0m     data, target, random_state=0)\n\u001b[1;32m----> 7\u001b[1;33m \u001b[0mfeature_selector\u001b[0m\u001b[1;33m.\u001b[0m\u001b[0mfit\u001b[0m\u001b[1;33m(\u001b[0m\u001b[0mdata_train\u001b[0m\u001b[1;33m,\u001b[0m \u001b[0mtarget_train\u001b[0m\u001b[1;33m)\u001b[0m\u001b[1;33m\u001b[0m\u001b[1;33m\u001b[0m\u001b[0m\n\u001b[0m\u001b[0;32m      8\u001b[0m \u001b[0mdata_train_subset\u001b[0m \u001b[1;33m=\u001b[0m \u001b[0mfeature_selector\u001b[0m\u001b[1;33m.\u001b[0m\u001b[0mtransform\u001b[0m\u001b[1;33m(\u001b[0m\u001b[0mdata_train\u001b[0m\u001b[1;33m)\u001b[0m\u001b[1;33m\u001b[0m\u001b[1;33m\u001b[0m\u001b[0m\n\u001b[0;32m      9\u001b[0m \u001b[0mdata_test_subset\u001b[0m \u001b[1;33m=\u001b[0m \u001b[0mfeature_selector\u001b[0m\u001b[1;33m.\u001b[0m\u001b[0mtransform\u001b[0m\u001b[1;33m(\u001b[0m\u001b[0mdata_test\u001b[0m\u001b[1;33m)\u001b[0m\u001b[1;33m\u001b[0m\u001b[1;33m\u001b[0m\u001b[0m\n",
      "\u001b[1;31mNameError\u001b[0m: name 'feature_selector' is not defined"
     ]
    }
   ],
   "source": [
    "# solution\n",
    "from sklearn.model_selection import train_test_split\n",
    "\n",
    "# solution\n",
    "data_train, data_test, target_train, target_test = train_test_split(\n",
    "    data, target, random_state=0)\n",
    "feature_selector.fit(data_train, target_train)\n",
    "data_train_subset = feature_selector.transform(data_train)\n",
    "data_test_subset = feature_selector.transform(data_test)\n",
    "model.fit(data_train_subset, target_train)\n",
    "test_score = model.score(data_test_subset, target_test)\n",
    "print(f\"The mean accuracy is: {test_score:.3f}\")"
   ]
  },
  {
   "cell_type": "code",
   "execution_count": 30,
   "id": "404a6027",
   "metadata": {},
   "outputs": [
    {
     "ename": "NameError",
     "evalue": "name 'feature_selector' is not defined",
     "output_type": "error",
     "traceback": [
      "\u001b[1;31m---------------------------------------------------------------------------\u001b[0m",
      "\u001b[1;31mNameError\u001b[0m                                 Traceback (most recent call last)",
      "\u001b[1;32m<ipython-input-30-1abdc23a948c>\u001b[0m in \u001b[0;36m<module>\u001b[1;34m\u001b[0m\n\u001b[0;32m      3\u001b[0m \u001b[1;33m\u001b[0m\u001b[0m\n\u001b[0;32m      4\u001b[0m \u001b[1;31m# solution\u001b[0m\u001b[1;33m\u001b[0m\u001b[1;33m\u001b[0m\u001b[1;33m\u001b[0m\u001b[0m\n\u001b[1;32m----> 5\u001b[1;33m \u001b[0mmodel\u001b[0m \u001b[1;33m=\u001b[0m \u001b[0mmake_pipeline\u001b[0m\u001b[1;33m(\u001b[0m\u001b[0mfeature_selector\u001b[0m\u001b[1;33m,\u001b[0m \u001b[0mLogisticRegression\u001b[0m\u001b[1;33m(\u001b[0m\u001b[1;33m)\u001b[0m\u001b[1;33m)\u001b[0m\u001b[1;33m\u001b[0m\u001b[1;33m\u001b[0m\u001b[0m\n\u001b[0m\u001b[0;32m      6\u001b[0m \u001b[0mtest_score\u001b[0m \u001b[1;33m=\u001b[0m \u001b[0mcross_val_score\u001b[0m\u001b[1;33m(\u001b[0m\u001b[0mmodel\u001b[0m\u001b[1;33m,\u001b[0m \u001b[0mdata\u001b[0m\u001b[1;33m,\u001b[0m \u001b[0mtarget\u001b[0m\u001b[1;33m)\u001b[0m\u001b[1;33m\u001b[0m\u001b[1;33m\u001b[0m\u001b[0m\n\u001b[0;32m      7\u001b[0m \u001b[0mprint\u001b[0m\u001b[1;33m(\u001b[0m\u001b[1;34mf\"The mean accuracy is: {test_score.mean():.3f}\"\u001b[0m\u001b[1;33m)\u001b[0m\u001b[1;33m\u001b[0m\u001b[1;33m\u001b[0m\u001b[0m\n",
      "\u001b[1;31mNameError\u001b[0m: name 'feature_selector' is not defined"
     ]
    }
   ],
   "source": [
    "# solution\n",
    "from sklearn.pipeline import make_pipeline\n",
    "\n",
    "# solution\n",
    "model = make_pipeline(feature_selector, LogisticRegression())\n",
    "test_score = cross_val_score(model, data, target)\n",
    "print(f\"The mean accuracy is: {test_score.mean():.3f}\")"
   ]
  },
  {
   "cell_type": "code",
   "execution_count": null,
   "id": "290c66ac",
   "metadata": {},
   "outputs": [],
   "source": []
  }
 ],
 "metadata": {
  "kernelspec": {
   "display_name": "Python 3",
   "language": "python",
   "name": "python3"
  },
  "language_info": {
   "codemirror_mode": {
    "name": "ipython",
    "version": 3
   },
   "file_extension": ".py",
   "mimetype": "text/x-python",
   "name": "python",
   "nbconvert_exporter": "python",
   "pygments_lexer": "ipython3",
   "version": "3.8.8"
  }
 },
 "nbformat": 4,
 "nbformat_minor": 5
}
