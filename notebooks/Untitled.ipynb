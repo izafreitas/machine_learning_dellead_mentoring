{
 "cells": [
  {
   "cell_type": "code",
   "execution_count": null,
   "id": "b8bb506e-1b92-4f35-96a9-893ac3ebaf87",
   "metadata": {},
   "outputs": [],
   "source": [
    "#! /usr/bin/env python3\n",
    "# -- coding: utf-8 --\n",
    "# Copyright © 2021 Federal University of Ceará\n",
    "\n",
    "# Authors: Leidiana Iza Andrade Freitas, Dominick Maia Alexandre, Juliana Lopes Gurgel\n",
    "# <izafreitas@alu.ufc.br; domimaia@alu.ufc.br; julianalgurgel@alu.ufc.br>\n",
    "# Date: 29/05/2021\n",
    "\n",
    "import pandas as pd\n",
    "\n",
    "yrl_glossary = 'dic_test.txt'\n",
    "\n",
    "infilename = input('Infile name: ')\n",
    "outfilename=\"%s_output.txt\" % (infilename.split(\".\",1)[0])\n",
    "\n",
    "with open(infilename, 'r', encoding='utf-8') as f:\n",
    "    infile = f.readlines()\n",
    "\n",
    "# defining function to tag words\n",
    "def tag_word(line, glossary):\n",
    "    tagged_word = line.lower()\n",
    "\n",
    "# tagging words\n",
    "    for word, tag in glossary.items():\n",
    "        tagged_word = tagged_word.replace(word.lower(), word.lower() + '\\\\' + tag)\n",
    "\n",
    "# tagging nouns inflected in the plural\n",
    "        if '\\\\N-itá' in tagged_word:\n",
    "            tagged_word = tagged_word.replace('\\\\N-itá', '-itá')\n",
    "            tagged_word = tagged_word.replace(word.lower(), word.lower() + '\\\\' + tag)\n",
    "\n",
    "# printing proper names with capital letters\n",
    "        if 'N-PRO' in tag:\n",
    "            tagged_word = tagged_word.replace(word.lower(), word.capitalize())\n",
    "# printing uppercase tags\n",
    "    for tag in glossary.values():\n",
    "            tagged_word = tagged_word.replace(tag, tag.upper())\n",
    "\n",
    "    return tagged_word[0].upper() + tagged_word[1:]\n",
    "\n",
    "df = pd.read_csv(yrl_glossary, sep='\\t', header=None, index_col=0)\n",
    "glossary = df.to_dict()[1]\n",
    "\n",
    "# infile will contain a list where each item is a line\n",
    "# e.g. infile[0] = line 1.\n",
    "with open(infilename) as file:\n",
    "    lines = file.readlines()\n",
    "lines = [word.strip() for word in lines if word != '\\n']\n",
    "\n",
    "# tagging words in each line of the infile with tag_word function\n",
    "tagged_words = [tag_word(word, glossary) for word in lines]\n",
    "\n",
    "# saving tagged outfile\n",
    "with open(outfilename, 'w+', encoding='utf-8') as outfile:\n",
    "    for tagged_word in tagged_words:\n",
    "        outfile.write(f'{tagged_word}\\n\\n')"
   ]
  },
  {
   "cell_type": "code",
   "execution_count": null,
   "id": "8ed11f5a-64f1-40a4-a88c-0c85e00c4f32",
   "metadata": {},
   "outputs": [],
   "source": []
  }
 ],
 "metadata": {
  "kernelspec": {
   "display_name": "Python 3",
   "language": "python",
   "name": "python3"
  },
  "language_info": {
   "codemirror_mode": {
    "name": "ipython",
    "version": 3
   },
   "file_extension": ".py",
   "mimetype": "text/x-python",
   "name": "python",
   "nbconvert_exporter": "python",
   "pygments_lexer": "ipython3",
   "version": "3.8.8"
  }
 },
 "nbformat": 4,
 "nbformat_minor": 5
}
