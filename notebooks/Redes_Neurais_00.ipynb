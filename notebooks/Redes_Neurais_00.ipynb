{
 "cells": [
  {
   "cell_type": "markdown",
   "id": "461e75d9",
   "metadata": {},
   "source": [
    "# **Pratices of Neural Network in Python**\n",
    "\n",
    "Fonte: \n",
    "\n",
    "https://people.revoledu.com/kardi/tutorial/Python/Practice+Neural+Network+in+Python.html\n",
    "\n",
    "http://people.revoledu.com/kardi/tutorial/NeuralNetwork/"
   ]
  },
  {
   "cell_type": "markdown",
   "id": "4b82d81a",
   "metadata": {},
   "source": [
    "**Exemplo com OR Boolean**"
   ]
  },
  {
   "cell_type": "code",
   "execution_count": 95,
   "id": "e89adc1d",
   "metadata": {},
   "outputs": [],
   "source": [
    "from sklearn.neural_network import MLPClassifier\n",
    "from sklearn.linear_model import Perceptron\n",
    "import sklearn.metrics as metric\n",
    "from sklearn.model_selection import train_test_split\n",
    "import numpy as np\n",
    "import pandas as pd\n",
    "import matplotlib.pyplot as plt\n",
    "%matplotlib inline"
   ]
  },
  {
   "cell_type": "code",
   "execution_count": 38,
   "id": "ef9d3eaf",
   "metadata": {},
   "outputs": [],
   "source": [
    "X_training=[[1,1],\n",
    "            [1,0],\n",
    "            [0,1],\n",
    "            [0,0]\n",
    "           ]\n",
    "y_training=X_training\n",
    "y_true=y_training"
   ]
  },
  {
   "cell_type": "markdown",
   "id": "08eab591",
   "metadata": {},
   "source": [
    "## **Perceptron**"
   ]
  },
  {
   "cell_type": "markdown",
   "id": "c021ac39",
   "metadata": {},
   "source": [
    "1. Medindo.\n",
    "2. Prevendo e medindo precisão.\n",
    "3. Fazendo previsão. \n",
    "4. Obtendo pesos da Rede Neural."
   ]
  },
  {
   "cell_type": "code",
   "execution_count": 96,
   "id": "a1be620d",
   "metadata": {},
   "outputs": [
    {
     "ename": "ValueError",
     "evalue": "The number of classes has to be greater than one; got 1 class",
     "output_type": "error",
     "traceback": [
      "\u001b[1;31m---------------------------------------------------------------------------\u001b[0m",
      "\u001b[1;31mValueError\u001b[0m                                Traceback (most recent call last)",
      "\u001b[1;32m<ipython-input-96-df6a57e80d66>\u001b[0m in \u001b[0;36m<module>\u001b[1;34m\u001b[0m\n\u001b[0;32m      1\u001b[0m \u001b[0mptn\u001b[0m \u001b[1;33m=\u001b[0m \u001b[0mPerceptron\u001b[0m \u001b[1;33m(\u001b[0m\u001b[0mmax_iter\u001b[0m \u001b[1;33m=\u001b[0m \u001b[1;36m500\u001b[0m\u001b[1;33m)\u001b[0m                      \u001b[1;31m# definindo o método\u001b[0m\u001b[1;33m\u001b[0m\u001b[1;33m\u001b[0m\u001b[0m\n\u001b[1;32m----> 2\u001b[1;33m \u001b[0mptn\u001b[0m\u001b[1;33m.\u001b[0m\u001b[0mfit\u001b[0m\u001b[1;33m(\u001b[0m\u001b[0mX_training\u001b[0m\u001b[1;33m,\u001b[0m \u001b[0my_training\u001b[0m\u001b[1;33m)\u001b[0m                        \u001b[1;31m# treinando o modelo\u001b[0m\u001b[1;33m\u001b[0m\u001b[1;33m\u001b[0m\u001b[0m\n\u001b[0m\u001b[0;32m      3\u001b[0m \u001b[0my_pred\u001b[0m \u001b[1;33m=\u001b[0m \u001b[0mptn\u001b[0m\u001b[1;33m.\u001b[0m\u001b[0mpredict\u001b[0m\u001b[1;33m(\u001b[0m\u001b[0mX_testing\u001b[0m\u001b[1;33m)\u001b[0m                        \u001b[1;31m# fazendo a predição\u001b[0m\u001b[1;33m\u001b[0m\u001b[1;33m\u001b[0m\u001b[0m\n\u001b[0;32m      4\u001b[0m \u001b[0mprint\u001b[0m\u001b[1;33m(\u001b[0m\u001b[0my_pred\u001b[0m\u001b[1;33m)\u001b[0m                                          \u001b[1;31m# mostrando a saída\u001b[0m\u001b[1;33m\u001b[0m\u001b[1;33m\u001b[0m\u001b[0m\n\u001b[0;32m      5\u001b[0m \u001b[0maccuracy\u001b[0m\u001b[1;33m=\u001b[0m\u001b[0mmetric\u001b[0m\u001b[1;33m.\u001b[0m\u001b[0maccuracy_score\u001b[0m\u001b[1;33m(\u001b[0m\u001b[0my_true\u001b[0m\u001b[1;33m,\u001b[0m \u001b[0my_pred\u001b[0m\u001b[1;33m,\u001b[0m \u001b[0mnormalize\u001b[0m\u001b[1;33m=\u001b[0m\u001b[1;32mTrue\u001b[0m\u001b[1;33m)\u001b[0m\u001b[1;33m\u001b[0m\u001b[1;33m\u001b[0m\u001b[0m\n",
      "\u001b[1;32m~\\Anaconda3\\lib\\site-packages\\sklearn\\linear_model\\_stochastic_gradient.py\u001b[0m in \u001b[0;36mfit\u001b[1;34m(self, X, y, coef_init, intercept_init, sample_weight)\u001b[0m\n\u001b[0;32m    727\u001b[0m             \u001b[0mReturns\u001b[0m \u001b[0man\u001b[0m \u001b[0minstance\u001b[0m \u001b[0mof\u001b[0m \u001b[0mself\u001b[0m\u001b[1;33m.\u001b[0m\u001b[1;33m\u001b[0m\u001b[1;33m\u001b[0m\u001b[0m\n\u001b[0;32m    728\u001b[0m         \"\"\"\n\u001b[1;32m--> 729\u001b[1;33m         return self._fit(X, y, alpha=self.alpha, C=1.0,\n\u001b[0m\u001b[0;32m    730\u001b[0m                          \u001b[0mloss\u001b[0m\u001b[1;33m=\u001b[0m\u001b[0mself\u001b[0m\u001b[1;33m.\u001b[0m\u001b[0mloss\u001b[0m\u001b[1;33m,\u001b[0m \u001b[0mlearning_rate\u001b[0m\u001b[1;33m=\u001b[0m\u001b[0mself\u001b[0m\u001b[1;33m.\u001b[0m\u001b[0mlearning_rate\u001b[0m\u001b[1;33m,\u001b[0m\u001b[1;33m\u001b[0m\u001b[1;33m\u001b[0m\u001b[0m\n\u001b[0;32m    731\u001b[0m                          \u001b[0mcoef_init\u001b[0m\u001b[1;33m=\u001b[0m\u001b[0mcoef_init\u001b[0m\u001b[1;33m,\u001b[0m \u001b[0mintercept_init\u001b[0m\u001b[1;33m=\u001b[0m\u001b[0mintercept_init\u001b[0m\u001b[1;33m,\u001b[0m\u001b[1;33m\u001b[0m\u001b[1;33m\u001b[0m\u001b[0m\n",
      "\u001b[1;32m~\\Anaconda3\\lib\\site-packages\\sklearn\\linear_model\\_stochastic_gradient.py\u001b[0m in \u001b[0;36m_fit\u001b[1;34m(self, X, y, alpha, C, loss, learning_rate, coef_init, intercept_init, sample_weight)\u001b[0m\n\u001b[0;32m    567\u001b[0m         \u001b[0mself\u001b[0m\u001b[1;33m.\u001b[0m\u001b[0mt_\u001b[0m \u001b[1;33m=\u001b[0m \u001b[1;36m1.0\u001b[0m\u001b[1;33m\u001b[0m\u001b[1;33m\u001b[0m\u001b[0m\n\u001b[0;32m    568\u001b[0m \u001b[1;33m\u001b[0m\u001b[0m\n\u001b[1;32m--> 569\u001b[1;33m         self._partial_fit(X, y, alpha, C, loss, learning_rate, self.max_iter,\n\u001b[0m\u001b[0;32m    570\u001b[0m                           classes, sample_weight, coef_init, intercept_init)\n\u001b[0;32m    571\u001b[0m \u001b[1;33m\u001b[0m\u001b[0m\n",
      "\u001b[1;32m~\\Anaconda3\\lib\\site-packages\\sklearn\\linear_model\\_stochastic_gradient.py\u001b[0m in \u001b[0;36m_partial_fit\u001b[1;34m(self, X, y, alpha, C, loss, learning_rate, max_iter, classes, sample_weight, coef_init, intercept_init)\u001b[0m\n\u001b[0;32m    529\u001b[0m                              max_iter=max_iter)\n\u001b[0;32m    530\u001b[0m         \u001b[1;32melse\u001b[0m\u001b[1;33m:\u001b[0m\u001b[1;33m\u001b[0m\u001b[1;33m\u001b[0m\u001b[0m\n\u001b[1;32m--> 531\u001b[1;33m             raise ValueError(\n\u001b[0m\u001b[0;32m    532\u001b[0m                 \u001b[1;34m\"The number of classes has to be greater than one;\"\u001b[0m\u001b[1;33m\u001b[0m\u001b[1;33m\u001b[0m\u001b[0m\n\u001b[0;32m    533\u001b[0m                 \" got %d class\" % n_classes)\n",
      "\u001b[1;31mValueError\u001b[0m: The number of classes has to be greater than one; got 1 class"
     ]
    }
   ],
   "source": [
    "ptn = Perceptron (max_iter = 500)                      # definindo o método\n",
    "ptn.fit(X_training, y_training)                        # treinando o modelo\n",
    "y_pred = ptn.predict(X_testing)                        # fazendo a predição\n",
    "print(y_pred)                                          # mostrando a saída\n",
    "accuracy=metric.accuracy_score(y_true, y_pred, normalize=True)\n",
    "print('acuracy=', accuracy)                            # mostrando a acurácia"
   ]
  },
  {
   "cell_type": "code",
   "execution_count": 40,
   "id": "91e94bf8",
   "metadata": {},
   "outputs": [
    {
     "ename": "AttributeError",
     "evalue": "'Perceptron' object has no attribute 'intercept_'",
     "output_type": "error",
     "traceback": [
      "\u001b[1;31m---------------------------------------------------------------------------\u001b[0m",
      "\u001b[1;31mAttributeError\u001b[0m                            Traceback (most recent call last)",
      "\u001b[1;32m<ipython-input-40-0ad04e9f875d>\u001b[0m in \u001b[0;36m<module>\u001b[1;34m\u001b[0m\n\u001b[1;32m----> 1\u001b[1;33m \u001b[0mprint\u001b[0m\u001b[1;33m(\u001b[0m\u001b[0mptn\u001b[0m\u001b[1;33m.\u001b[0m\u001b[0mintercept_\u001b[0m\u001b[1;33m,\u001b[0m \u001b[0mptn\u001b[0m\u001b[1;33m.\u001b[0m\u001b[0mcoef_\u001b[0m\u001b[1;33m)\u001b[0m    \u001b[1;31m# mostrando os pesos das sinapse w0, w1, w2\u001b[0m\u001b[1;33m\u001b[0m\u001b[1;33m\u001b[0m\u001b[0m\n\u001b[0m",
      "\u001b[1;31mAttributeError\u001b[0m: 'Perceptron' object has no attribute 'intercept_'"
     ]
    }
   ],
   "source": [
    "print(ptn.intercept_, ptn.coef_)    # mostrando os pesos das sinapse w0, w1, w2"
   ]
  },
  {
   "cell_type": "markdown",
   "id": "fae676b0",
   "metadata": {},
   "source": [
    "## Multi-Layer Perceptron (MLP)"
   ]
  },
  {
   "cell_type": "markdown",
   "id": "67e5c1e5",
   "metadata": {},
   "source": [
    "O código abaixo é um exemplo de como você usa o Multi-Layer Perceptron(MLP) Neural Network para treinar, predizer e medir a acuracia de sua predição. Você também pode obter os pesos da Rede Neural."
   ]
  },
  {
   "cell_type": "code",
   "execution_count": 41,
   "id": "e5602453",
   "metadata": {},
   "outputs": [
    {
     "name": "stdout",
     "output_type": "stream",
     "text": [
      "[[0 1]\n",
      " [0 1]\n",
      " [0 1]\n",
      " [1 0]\n",
      " [0 1]\n",
      " [1 0]\n",
      " [0 1]]\n"
     ]
    },
    {
     "name": "stderr",
     "output_type": "stream",
     "text": [
      "C:\\Users\\leidiana.freitas\\Anaconda3\\lib\\site-packages\\sklearn\\neural_network\\_multilayer_perceptron.py:500: ConvergenceWarning: lbfgs failed to converge (status=1):\n",
      "STOP: TOTAL NO. of ITERATIONS REACHED LIMIT.\n",
      "\n",
      "Increase the number of iterations (max_iter) or scale the data as shown in:\n",
      "    https://scikit-learn.org/stable/modules/preprocessing.html\n",
      "  self.n_iter_ = _check_optimize_result(\"lbfgs\", opt_res, self.max_iter)\n"
     ]
    },
    {
     "ename": "ValueError",
     "evalue": "Found input variables with inconsistent numbers of samples: [8, 14]",
     "output_type": "error",
     "traceback": [
      "\u001b[1;31m---------------------------------------------------------------------------\u001b[0m",
      "\u001b[1;31mValueError\u001b[0m                                Traceback (most recent call last)",
      "\u001b[1;32m<ipython-input-41-635f55d0cf5f>\u001b[0m in \u001b[0;36m<module>\u001b[1;34m\u001b[0m\n\u001b[0;32m      3\u001b[0m \u001b[0my_pred\u001b[0m\u001b[1;33m=\u001b[0m\u001b[0mmlp\u001b[0m\u001b[1;33m.\u001b[0m\u001b[0mpredict\u001b[0m\u001b[1;33m(\u001b[0m\u001b[0mX_testing\u001b[0m\u001b[1;33m)\u001b[0m                                 \u001b[1;31m# predição\u001b[0m\u001b[1;33m\u001b[0m\u001b[1;33m\u001b[0m\u001b[0m\n\u001b[0;32m      4\u001b[0m \u001b[0mprint\u001b[0m\u001b[1;33m(\u001b[0m\u001b[0my_pred\u001b[0m\u001b[1;33m)\u001b[0m                                                 \u001b[1;31m# mostrando a saída\u001b[0m\u001b[1;33m\u001b[0m\u001b[1;33m\u001b[0m\u001b[0m\n\u001b[1;32m----> 5\u001b[1;33m \u001b[0maccuracy\u001b[0m\u001b[1;33m=\u001b[0m\u001b[0mmetric\u001b[0m\u001b[1;33m.\u001b[0m\u001b[0maccuracy_score\u001b[0m\u001b[1;33m(\u001b[0m\u001b[0mnp\u001b[0m\u001b[1;33m.\u001b[0m\u001b[0marray\u001b[0m\u001b[1;33m(\u001b[0m\u001b[0my_true\u001b[0m\u001b[1;33m)\u001b[0m\u001b[1;33m.\u001b[0m\u001b[0mflatten\u001b[0m\u001b[1;33m(\u001b[0m\u001b[1;33m)\u001b[0m\u001b[1;33m,\u001b[0m \u001b[0mnp\u001b[0m\u001b[1;33m.\u001b[0m\u001b[0marray\u001b[0m\u001b[1;33m(\u001b[0m\u001b[0my_pred\u001b[0m\u001b[1;33m)\u001b[0m\u001b[1;33m.\u001b[0m\u001b[0mflatten\u001b[0m\u001b[1;33m(\u001b[0m\u001b[1;33m)\u001b[0m\u001b[1;33m,\u001b[0m \u001b[0mnormalize\u001b[0m\u001b[1;33m=\u001b[0m\u001b[1;32mTrue\u001b[0m\u001b[1;33m)\u001b[0m\u001b[1;33m\u001b[0m\u001b[1;33m\u001b[0m\u001b[0m\n\u001b[0m\u001b[0;32m      6\u001b[0m \u001b[0mprint\u001b[0m\u001b[1;33m(\u001b[0m\u001b[1;34m'acuracy='\u001b[0m\u001b[1;33m,\u001b[0m \u001b[0maccuracy\u001b[0m\u001b[1;33m)\u001b[0m                                   \u001b[1;31m# mostrando a acurácia\u001b[0m\u001b[1;33m\u001b[0m\u001b[1;33m\u001b[0m\u001b[0m\n",
      "\u001b[1;32m~\\Anaconda3\\lib\\site-packages\\sklearn\\utils\\validation.py\u001b[0m in \u001b[0;36minner_f\u001b[1;34m(*args, **kwargs)\u001b[0m\n\u001b[0;32m     61\u001b[0m             \u001b[0mextra_args\u001b[0m \u001b[1;33m=\u001b[0m \u001b[0mlen\u001b[0m\u001b[1;33m(\u001b[0m\u001b[0margs\u001b[0m\u001b[1;33m)\u001b[0m \u001b[1;33m-\u001b[0m \u001b[0mlen\u001b[0m\u001b[1;33m(\u001b[0m\u001b[0mall_args\u001b[0m\u001b[1;33m)\u001b[0m\u001b[1;33m\u001b[0m\u001b[1;33m\u001b[0m\u001b[0m\n\u001b[0;32m     62\u001b[0m             \u001b[1;32mif\u001b[0m \u001b[0mextra_args\u001b[0m \u001b[1;33m<=\u001b[0m \u001b[1;36m0\u001b[0m\u001b[1;33m:\u001b[0m\u001b[1;33m\u001b[0m\u001b[1;33m\u001b[0m\u001b[0m\n\u001b[1;32m---> 63\u001b[1;33m                 \u001b[1;32mreturn\u001b[0m \u001b[0mf\u001b[0m\u001b[1;33m(\u001b[0m\u001b[1;33m*\u001b[0m\u001b[0margs\u001b[0m\u001b[1;33m,\u001b[0m \u001b[1;33m**\u001b[0m\u001b[0mkwargs\u001b[0m\u001b[1;33m)\u001b[0m\u001b[1;33m\u001b[0m\u001b[1;33m\u001b[0m\u001b[0m\n\u001b[0m\u001b[0;32m     64\u001b[0m \u001b[1;33m\u001b[0m\u001b[0m\n\u001b[0;32m     65\u001b[0m             \u001b[1;31m# extra_args > 0\u001b[0m\u001b[1;33m\u001b[0m\u001b[1;33m\u001b[0m\u001b[1;33m\u001b[0m\u001b[0m\n",
      "\u001b[1;32m~\\Anaconda3\\lib\\site-packages\\sklearn\\metrics\\_classification.py\u001b[0m in \u001b[0;36maccuracy_score\u001b[1;34m(y_true, y_pred, normalize, sample_weight)\u001b[0m\n\u001b[0;32m    200\u001b[0m \u001b[1;33m\u001b[0m\u001b[0m\n\u001b[0;32m    201\u001b[0m     \u001b[1;31m# Compute accuracy for each possible representation\u001b[0m\u001b[1;33m\u001b[0m\u001b[1;33m\u001b[0m\u001b[1;33m\u001b[0m\u001b[0m\n\u001b[1;32m--> 202\u001b[1;33m     \u001b[0my_type\u001b[0m\u001b[1;33m,\u001b[0m \u001b[0my_true\u001b[0m\u001b[1;33m,\u001b[0m \u001b[0my_pred\u001b[0m \u001b[1;33m=\u001b[0m \u001b[0m_check_targets\u001b[0m\u001b[1;33m(\u001b[0m\u001b[0my_true\u001b[0m\u001b[1;33m,\u001b[0m \u001b[0my_pred\u001b[0m\u001b[1;33m)\u001b[0m\u001b[1;33m\u001b[0m\u001b[1;33m\u001b[0m\u001b[0m\n\u001b[0m\u001b[0;32m    203\u001b[0m     \u001b[0mcheck_consistent_length\u001b[0m\u001b[1;33m(\u001b[0m\u001b[0my_true\u001b[0m\u001b[1;33m,\u001b[0m \u001b[0my_pred\u001b[0m\u001b[1;33m,\u001b[0m \u001b[0msample_weight\u001b[0m\u001b[1;33m)\u001b[0m\u001b[1;33m\u001b[0m\u001b[1;33m\u001b[0m\u001b[0m\n\u001b[0;32m    204\u001b[0m     \u001b[1;32mif\u001b[0m \u001b[0my_type\u001b[0m\u001b[1;33m.\u001b[0m\u001b[0mstartswith\u001b[0m\u001b[1;33m(\u001b[0m\u001b[1;34m'multilabel'\u001b[0m\u001b[1;33m)\u001b[0m\u001b[1;33m:\u001b[0m\u001b[1;33m\u001b[0m\u001b[1;33m\u001b[0m\u001b[0m\n",
      "\u001b[1;32m~\\Anaconda3\\lib\\site-packages\\sklearn\\metrics\\_classification.py\u001b[0m in \u001b[0;36m_check_targets\u001b[1;34m(y_true, y_pred)\u001b[0m\n\u001b[0;32m     81\u001b[0m     \u001b[0my_pred\u001b[0m \u001b[1;33m:\u001b[0m \u001b[0marray\u001b[0m \u001b[1;32mor\u001b[0m \u001b[0mindicator\u001b[0m \u001b[0mmatrix\u001b[0m\u001b[1;33m\u001b[0m\u001b[1;33m\u001b[0m\u001b[0m\n\u001b[0;32m     82\u001b[0m     \"\"\"\n\u001b[1;32m---> 83\u001b[1;33m     \u001b[0mcheck_consistent_length\u001b[0m\u001b[1;33m(\u001b[0m\u001b[0my_true\u001b[0m\u001b[1;33m,\u001b[0m \u001b[0my_pred\u001b[0m\u001b[1;33m)\u001b[0m\u001b[1;33m\u001b[0m\u001b[1;33m\u001b[0m\u001b[0m\n\u001b[0m\u001b[0;32m     84\u001b[0m     \u001b[0mtype_true\u001b[0m \u001b[1;33m=\u001b[0m \u001b[0mtype_of_target\u001b[0m\u001b[1;33m(\u001b[0m\u001b[0my_true\u001b[0m\u001b[1;33m)\u001b[0m\u001b[1;33m\u001b[0m\u001b[1;33m\u001b[0m\u001b[0m\n\u001b[0;32m     85\u001b[0m     \u001b[0mtype_pred\u001b[0m \u001b[1;33m=\u001b[0m \u001b[0mtype_of_target\u001b[0m\u001b[1;33m(\u001b[0m\u001b[0my_pred\u001b[0m\u001b[1;33m)\u001b[0m\u001b[1;33m\u001b[0m\u001b[1;33m\u001b[0m\u001b[0m\n",
      "\u001b[1;32m~\\Anaconda3\\lib\\site-packages\\sklearn\\utils\\validation.py\u001b[0m in \u001b[0;36mcheck_consistent_length\u001b[1;34m(*arrays)\u001b[0m\n\u001b[0;32m    260\u001b[0m     \u001b[0muniques\u001b[0m \u001b[1;33m=\u001b[0m \u001b[0mnp\u001b[0m\u001b[1;33m.\u001b[0m\u001b[0munique\u001b[0m\u001b[1;33m(\u001b[0m\u001b[0mlengths\u001b[0m\u001b[1;33m)\u001b[0m\u001b[1;33m\u001b[0m\u001b[1;33m\u001b[0m\u001b[0m\n\u001b[0;32m    261\u001b[0m     \u001b[1;32mif\u001b[0m \u001b[0mlen\u001b[0m\u001b[1;33m(\u001b[0m\u001b[0muniques\u001b[0m\u001b[1;33m)\u001b[0m \u001b[1;33m>\u001b[0m \u001b[1;36m1\u001b[0m\u001b[1;33m:\u001b[0m\u001b[1;33m\u001b[0m\u001b[1;33m\u001b[0m\u001b[0m\n\u001b[1;32m--> 262\u001b[1;33m         raise ValueError(\"Found input variables with inconsistent numbers of\"\n\u001b[0m\u001b[0;32m    263\u001b[0m                          \" samples: %r\" % [int(l) for l in lengths])\n\u001b[0;32m    264\u001b[0m \u001b[1;33m\u001b[0m\u001b[0m\n",
      "\u001b[1;31mValueError\u001b[0m: Found input variables with inconsistent numbers of samples: [8, 14]"
     ]
    }
   ],
   "source": [
    "mlp = MLPClassifier(solver='lbfgs', hidden_layer_sizes=(1,1), activation='logistic') # definindo método\n",
    "mlp.fit(X_training, y_training)                               # treinamento\n",
    "y_pred=mlp.predict(X_testing)                                 # predição\n",
    "print(y_pred)                                                 # mostrando a saída\n",
    "accuracy=metric.accuracy_score(np.array(y_true).flatten(), np.array(y_pred).flatten(), normalize=True)\n",
    "print('acuracy=', accuracy)                                   # mostrando a acurácia"
   ]
  },
  {
   "cell_type": "code",
   "execution_count": 42,
   "id": "9a3a637f",
   "metadata": {},
   "outputs": [
    {
     "name": "stdout",
     "output_type": "stream",
     "text": [
      "[(2, 1), (1, 1), (1, 2)]\n"
     ]
    },
    {
     "data": {
      "text/plain": [
       "[array([[ 4.71808257],\n",
       "        [-4.87752767]]),\n",
       " array([[9.90179096]]),\n",
       " array([[  5.64778542, -57.61860477]])]"
      ]
     },
     "execution_count": 42,
     "metadata": {},
     "output_type": "execute_result"
    }
   ],
   "source": [
    "print([coef.shape for coef in mlp.coefs_]) # tamanho dos pesos das sinapses\n",
    "mlp.coefs_                                 # pesos das sinapses"
   ]
  },
  {
   "cell_type": "markdown",
   "id": "5036e064",
   "metadata": {},
   "source": [
    "## Experimentos"
   ]
  },
  {
   "cell_type": "markdown",
   "id": "7c16c08d",
   "metadata": {},
   "source": [
    "- Altere os dados (X_training, y_training, X_testing)\n",
    "    - Mude binário para bipolar {-1, +1}\n",
    "- Altere a camada oculta do MLP: número de camadas (int) ou tamanho (n, m)\n",
    "- Alterar solucionador de MLP: {'lbfgs', 'sgd', 'adam'}\n",
    "- Alterar a função de ativação do MLP: {'identidade', 'logística', 'tanh', 'relu'}, padrão 'relu'\n",
    "Pontas\n",
    "\n",
    "- Verifique a precisão da previsão"
   ]
  },
  {
   "cell_type": "markdown",
   "id": "c701553e",
   "metadata": {},
   "source": [
    "## Prática: Bipolar OU"
   ]
  },
  {
   "cell_type": "markdown",
   "id": "584f249f",
   "metadata": {},
   "source": [
    "Em vez de {0, 1}, também podemos alterar o valor para bipolar {-1, +1}. Tente a seguinte porta OR usando Perceptron e MLP."
   ]
  },
  {
   "cell_type": "code",
   "execution_count": 43,
   "id": "9de8bf61",
   "metadata": {},
   "outputs": [],
   "source": [
    "X_training = [[1, 1],\n",
    "             [ 1,-1],\n",
    "             [-1, 1],\n",
    "             [-1,-1]\n",
    "             ]\n",
    "y_training = [ 1 , \n",
    "              1, \n",
    "              1, \n",
    "             -1 \n",
    "             ]\n",
    "X_testing = X_training\n",
    "y_true = y_training"
   ]
  },
  {
   "cell_type": "markdown",
   "id": "2565f3c9",
   "metadata": {},
   "source": [
    "## Prática-2: E gate"
   ]
  },
  {
   "cell_type": "markdown",
   "id": "d1dea462",
   "metadata": {},
   "source": [
    "Treine e preveja o treinamento do portão AND definido abaixo usando Perceptron e MLP."
   ]
  },
  {
   "cell_type": "code",
   "execution_count": 44,
   "id": "50b8b416",
   "metadata": {},
   "outputs": [],
   "source": [
    "X_training=[[1, 1], \n",
    "            [1, 0], \n",
    "            [0, 1],\n",
    "            [0, 0]\n",
    "           ]\n",
    "y_training=[1, \n",
    "           0, \n",
    "           0,\n",
    "           0\n",
    "           ]\n",
    "X_testing=X_training\n",
    "y_true=y_training"
   ]
  },
  {
   "cell_type": "markdown",
   "id": "a801c872",
   "metadata": {},
   "source": [
    "## Pratica-3: Bipolar AND gate\n",
    "\n",
    "Modifique os dados de treinamento AND Booleanos acima para bipolares. Use Perceptron e MLP para treinar e prever esse portão."
   ]
  },
  {
   "cell_type": "code",
   "execution_count": null,
   "id": "2c212efc",
   "metadata": {},
   "outputs": [],
   "source": []
  },
  {
   "cell_type": "markdown",
   "id": "31850b7e",
   "metadata": {},
   "source": [
    "## Pratica-4: dois neuronios de saída\n",
    "\n",
    "Tente usar o perceptron e o MLP para treinar e predizer seguinte dataset. O que aconteceu? Por que você acha que o erro aconteceu?"
   ]
  },
  {
   "cell_type": "code",
   "execution_count": 45,
   "id": "5f5db854",
   "metadata": {},
   "outputs": [],
   "source": [
    "X_training=[[1, 1],\n",
    "           [1, 0],\n",
    "           [0, 1],\n",
    "           [0, 0],\n",
    "           ]\n",
    "y_training=[[1, 1],\n",
    "            [1, 1],\n",
    "            [1, 1],\n",
    "            [0, 1]            \n",
    "           ]\n",
    "X_testing=X_training\n",
    "y_true=y_training"
   ]
  },
  {
   "cell_type": "markdown",
   "id": "074c9a9f",
   "metadata": {},
   "source": [
    "## Prática-5: XOR\n",
    "\n",
    "Use o Perceptron a o MLP para resolver o seguinte problema Boolean Exclusive Or (XOR). Como melhorar a acurácia? Quantas camadas ocultas mínimas são necessárias para torná-lo com 100% de precisão?"
   ]
  },
  {
   "cell_type": "code",
   "execution_count": 46,
   "id": "8aaae4f4",
   "metadata": {},
   "outputs": [],
   "source": [
    "X_training=[[1, 1],\n",
    "            [1, 0], \n",
    "            [0, 1],\n",
    "            [0, 0]\n",
    "           ]\n",
    "y_training=[1,\n",
    "           0,\n",
    "           0,\n",
    "           1\n",
    "           ]\n",
    "X_testing=X_training\n",
    "y_true=y_training"
   ]
  },
  {
   "cell_type": "markdown",
   "id": "fd11bee9",
   "metadata": {},
   "source": [
    "## Pratica-6: Tautologia\n",
    "\n",
    "Treine o PErceptron MLP para resolver a seguinte Tautoligia Booleana (todos 1). O que acontece?"
   ]
  },
  {
   "cell_type": "code",
   "execution_count": 47,
   "id": "c793be2c",
   "metadata": {},
   "outputs": [],
   "source": [
    "X_training=[[1, 1],\n",
    "            [1, 0],\n",
    "            [0, 1],\n",
    "            [0, 0]\n",
    "           ]\n",
    "y_training=[1,\n",
    "           1,\n",
    "           1,\n",
    "           1\n",
    "           ]\n",
    "X_testing=X_training\n",
    "y_true=y_training"
   ]
  },
  {
   "cell_type": "markdown",
   "id": "8ab6b849",
   "metadata": {},
   "source": [
    "## Prática-7: Boolean XNOR\n",
    "\n",
    "Use o Perceptron e MLP para resolver a seguinte problema Boolean Exclusive Not Or (XNOR). Como melhorar a acurácia? Quantas camadas ocultas mínimas são necessárias para torná-lo 100% de precisão?"
   ]
  },
  {
   "cell_type": "code",
   "execution_count": 12,
   "id": "1773aeac",
   "metadata": {},
   "outputs": [],
   "source": [
    "X_training=[[1, 1],\n",
    "           [1, 0],\n",
    "           [0, 1],\n",
    "           [0, 0]\n",
    "          ]\n",
    "y_training=[0,\n",
    "           1,\n",
    "           1,\n",
    "           0\n",
    "           ]\n",
    "X_testing=X_training\n",
    "y_true=y_training"
   ]
  },
  {
   "cell_type": "markdown",
   "id": "a835882c",
   "metadata": {},
   "source": [
    "## Prática-8: Rede Neural com 3 inputs e 2 outputs\n",
    "\n",
    "Tente treinar o seguinte conjunto de dados usando rede neural. Experimente alterar o solucionador, as camadas ocultas e a função de ativação para melhorar a precisão."
   ]
  },
  {
   "cell_type": "code",
   "execution_count": 13,
   "id": "26d6c5c5",
   "metadata": {},
   "outputs": [],
   "source": [
    "X_training=[[1,  1,  0],\n",
    "            [1, -1, -1],\n",
    "            [-1, 1,  1],\n",
    "            [-1, -1, 1], \n",
    "            [0,  1, -1],\n",
    "            [0, -1, -1],\n",
    "            [1,  1,  1]\n",
    "           ]\n",
    "y_training=[[1, 0],\n",
    "           [0, 1], \n",
    "           [1, 1],\n",
    "           [1, 0],\n",
    "           [1, 0],\n",
    "           [1, 1],\n",
    "           [1, 1]\n",
    "           ]\n",
    "X_testing=X_training\n",
    "y_true=y_training"
   ]
  },
  {
   "cell_type": "markdown",
   "id": "2e263006",
   "metadata": {},
   "source": [
    "## Prática-9: Rede Neural para Adição\n",
    "Treine o Perceptron e o MLP para resolver o problema de adição de rede neural. O que acontece? Por que você não pode resolver esse tipo de problema simples?"
   ]
  },
  {
   "cell_type": "code",
   "execution_count": 14,
   "id": "5fb78b4c",
   "metadata": {},
   "outputs": [],
   "source": [
    "X_training=[[1, 1],\n",
    "            [1, 2.5],\n",
    "            [-1, 1.5],\n",
    "            [-1,-1],\n",
    "            [0,  1],\n",
    "            [0, -1],\n",
    "            [1,  1]\n",
    "           ]\n",
    "y_training=[2,\n",
    "           3.5,\n",
    "           0.5,\n",
    "           0,\n",
    "           1,\n",
    "           -1,\n",
    "           2\n",
    "           ]\n",
    "X_testing=X_training\n",
    "y_true=y_training"
   ]
  },
  {
   "cell_type": "markdown",
   "id": "f0cdb192",
   "metadata": {},
   "source": [
    "## Prática-10: Escolha do modo de transporte\n",
    "\n",
    "Suponha que temos as seguintes 10 linhas de dados de treinamento. Os dados de treinamento devem fazer parte de um estudo de transporte sobre a escolha do modo de seleção de ônibus, carro ou trem entre os passageiros ao longo de uma rota importante em uma cidade, coletados por meio de um estudo de questionário. Para simplicidade e clareza, selecionamos apenas 4 atributos. O atributo 'gênero' é um tipo binário, enquanto 'propriedade de carro' é um número inteiro quantitativo. ‘Custo de viagem / km’ é um tipo de proporção quantitativa, mas aqui foi convertido em um tipo ordinal. 'Nível de renda' também é um tipo ordinal. Treine uma rede neural para prever o modo de transporte de uma pessoa, dados os quatro atributos: gênero, propriedade do carro, custo da viagem e nível de renda. Depois de treinar a rede neural usando os dados acima, tente prever a Escolha do Modo de Transporte da seguinte instância de dados: Mulher sem automóvel, disposta a pagar custos elevados de viagem e com nível de renda médio."
   ]
  },
  {
   "cell_type": "code",
   "execution_count": 76,
   "id": "40d3e2b7",
   "metadata": {},
   "outputs": [],
   "source": [
    "df=pd.read_csv('https://raw.githubusercontent.com/izafreitas/machine_learning_dellead_mentoring/main/datasets/transportes.csv?token=ABRCHWGHY54BYXGKC6VRA2DBLSVYU')"
   ]
  },
  {
   "cell_type": "code",
   "execution_count": 112,
   "id": "23b54a61",
   "metadata": {},
   "outputs": [
    {
     "data": {
      "text/html": [
       "<div>\n",
       "<style scoped>\n",
       "    .dataframe tbody tr th:only-of-type {\n",
       "        vertical-align: middle;\n",
       "    }\n",
       "\n",
       "    .dataframe tbody tr th {\n",
       "        vertical-align: top;\n",
       "    }\n",
       "\n",
       "    .dataframe thead th {\n",
       "        text-align: right;\n",
       "    }\n",
       "</style>\n",
       "<table border=\"1\" class=\"dataframe\">\n",
       "  <thead>\n",
       "    <tr style=\"text-align: right;\">\n",
       "      <th></th>\n",
       "      <th>gender</th>\n",
       "      <th>car_ownership</th>\n",
       "      <th>travel_cost</th>\n",
       "      <th>income_level</th>\n",
       "      <th>transportation_mode</th>\n",
       "    </tr>\n",
       "  </thead>\n",
       "  <tbody>\n",
       "    <tr>\n",
       "      <th>0</th>\n",
       "      <td>1</td>\n",
       "      <td>0</td>\n",
       "      <td>2</td>\n",
       "      <td>1</td>\n",
       "      <td>Bus</td>\n",
       "    </tr>\n",
       "    <tr>\n",
       "      <th>1</th>\n",
       "      <td>1</td>\n",
       "      <td>1</td>\n",
       "      <td>2</td>\n",
       "      <td>2</td>\n",
       "      <td>Bus</td>\n",
       "    </tr>\n",
       "    <tr>\n",
       "      <th>2</th>\n",
       "      <td>2</td>\n",
       "      <td>1</td>\n",
       "      <td>2</td>\n",
       "      <td>2</td>\n",
       "      <td>Train</td>\n",
       "    </tr>\n",
       "    <tr>\n",
       "      <th>3</th>\n",
       "      <td>2</td>\n",
       "      <td>0</td>\n",
       "      <td>2</td>\n",
       "      <td>1</td>\n",
       "      <td>Bus</td>\n",
       "    </tr>\n",
       "    <tr>\n",
       "      <th>4</th>\n",
       "      <td>1</td>\n",
       "      <td>1</td>\n",
       "      <td>2</td>\n",
       "      <td>2</td>\n",
       "      <td>Bus</td>\n",
       "    </tr>\n",
       "    <tr>\n",
       "      <th>5</th>\n",
       "      <td>1</td>\n",
       "      <td>0</td>\n",
       "      <td>1</td>\n",
       "      <td>2</td>\n",
       "      <td>Train</td>\n",
       "    </tr>\n",
       "    <tr>\n",
       "      <th>6</th>\n",
       "      <td>2</td>\n",
       "      <td>1</td>\n",
       "      <td>1</td>\n",
       "      <td>2</td>\n",
       "      <td>Train</td>\n",
       "    </tr>\n",
       "    <tr>\n",
       "      <th>7</th>\n",
       "      <td>2</td>\n",
       "      <td>1</td>\n",
       "      <td>3</td>\n",
       "      <td>3</td>\n",
       "      <td>Car</td>\n",
       "    </tr>\n",
       "    <tr>\n",
       "      <th>8</th>\n",
       "      <td>1</td>\n",
       "      <td>2</td>\n",
       "      <td>3</td>\n",
       "      <td>2</td>\n",
       "      <td>Car</td>\n",
       "    </tr>\n",
       "    <tr>\n",
       "      <th>9</th>\n",
       "      <td>2</td>\n",
       "      <td>2</td>\n",
       "      <td>3</td>\n",
       "      <td>3</td>\n",
       "      <td>Car</td>\n",
       "    </tr>\n",
       "  </tbody>\n",
       "</table>\n",
       "</div>"
      ],
      "text/plain": [
       "  gender  car_ownership travel_cost income_level transportation_mode\n",
       "0      1              0           2            1                 Bus\n",
       "1      1              1           2            2                 Bus\n",
       "2      2              1           2            2               Train\n",
       "3      2              0           2            1                 Bus\n",
       "4      1              1           2            2                 Bus\n",
       "5      1              0           1            2               Train\n",
       "6      2              1           1            2               Train\n",
       "7      2              1           3            3                 Car\n",
       "8      1              2           3            2                 Car\n",
       "9      2              2           3            3                 Car"
      ]
     },
     "execution_count": 112,
     "metadata": {},
     "output_type": "execute_result"
    }
   ],
   "source": [
    "df"
   ]
  },
  {
   "cell_type": "code",
   "execution_count": 130,
   "id": "50121047",
   "metadata": {},
   "outputs": [],
   "source": [
    "X_training=[[1,1],\n",
    "            [1,0],\n",
    "            [0,1],\n",
    "            [0,0]\n",
    "           ]\n",
    "y_training=X_training\n",
    "y_true=y_training"
   ]
  },
  {
   "cell_type": "markdown",
   "id": "833c3497",
   "metadata": {},
   "source": [
    "Gender (Male = 1 e Female = 2)"
   ]
  },
  {
   "cell_type": "code",
   "execution_count": 131,
   "id": "a6bc5328",
   "metadata": {},
   "outputs": [],
   "source": [
    "df.loc[df.gender=='Male','gender'] = 1\n",
    "df.loc[df.gender=='Female','gender'] = 2"
   ]
  },
  {
   "cell_type": "markdown",
   "id": "567c848f",
   "metadata": {},
   "source": [
    "Travel Cost (Standard = 1, Cheap = 2, Expensive = 3 )"
   ]
  },
  {
   "cell_type": "code",
   "execution_count": 132,
   "id": "56f48b65",
   "metadata": {},
   "outputs": [],
   "source": [
    "df.loc[df.travel_cost=='Standard','travel_cost'] = 1\n",
    "df.loc[df.travel_cost=='Cheap','travel_cost'] = 2\n",
    "df.loc[df.travel_cost=='Expensive','travel_cost'] = 3"
   ]
  },
  {
   "cell_type": "markdown",
   "id": "1f077c4a",
   "metadata": {},
   "source": [
    "Nível de renda ( Low = 1, Medium = 2, High = 3 )"
   ]
  },
  {
   "cell_type": "code",
   "execution_count": 133,
   "id": "21440c82",
   "metadata": {},
   "outputs": [],
   "source": [
    "df.loc[df.income_level=='Low','income_level'] = 1\n",
    "df.loc[df.income_level=='Medium','income_level'] = 2\n",
    "df.loc[df.income_level=='High','income_level'] = 3"
   ]
  },
  {
   "cell_type": "code",
   "execution_count": 134,
   "id": "cd7b1fa9",
   "metadata": {},
   "outputs": [
    {
     "data": {
      "text/html": [
       "<div>\n",
       "<style scoped>\n",
       "    .dataframe tbody tr th:only-of-type {\n",
       "        vertical-align: middle;\n",
       "    }\n",
       "\n",
       "    .dataframe tbody tr th {\n",
       "        vertical-align: top;\n",
       "    }\n",
       "\n",
       "    .dataframe thead th {\n",
       "        text-align: right;\n",
       "    }\n",
       "</style>\n",
       "<table border=\"1\" class=\"dataframe\">\n",
       "  <thead>\n",
       "    <tr style=\"text-align: right;\">\n",
       "      <th></th>\n",
       "      <th>gender</th>\n",
       "      <th>car_ownership</th>\n",
       "      <th>travel_cost</th>\n",
       "      <th>income_level</th>\n",
       "      <th>transportation_mode</th>\n",
       "    </tr>\n",
       "  </thead>\n",
       "  <tbody>\n",
       "    <tr>\n",
       "      <th>0</th>\n",
       "      <td>1</td>\n",
       "      <td>0</td>\n",
       "      <td>2</td>\n",
       "      <td>1</td>\n",
       "      <td>Bus</td>\n",
       "    </tr>\n",
       "    <tr>\n",
       "      <th>1</th>\n",
       "      <td>1</td>\n",
       "      <td>1</td>\n",
       "      <td>2</td>\n",
       "      <td>2</td>\n",
       "      <td>Bus</td>\n",
       "    </tr>\n",
       "    <tr>\n",
       "      <th>2</th>\n",
       "      <td>2</td>\n",
       "      <td>1</td>\n",
       "      <td>2</td>\n",
       "      <td>2</td>\n",
       "      <td>Train</td>\n",
       "    </tr>\n",
       "    <tr>\n",
       "      <th>3</th>\n",
       "      <td>2</td>\n",
       "      <td>0</td>\n",
       "      <td>2</td>\n",
       "      <td>1</td>\n",
       "      <td>Bus</td>\n",
       "    </tr>\n",
       "    <tr>\n",
       "      <th>4</th>\n",
       "      <td>1</td>\n",
       "      <td>1</td>\n",
       "      <td>2</td>\n",
       "      <td>2</td>\n",
       "      <td>Bus</td>\n",
       "    </tr>\n",
       "    <tr>\n",
       "      <th>5</th>\n",
       "      <td>1</td>\n",
       "      <td>0</td>\n",
       "      <td>1</td>\n",
       "      <td>2</td>\n",
       "      <td>Train</td>\n",
       "    </tr>\n",
       "    <tr>\n",
       "      <th>6</th>\n",
       "      <td>2</td>\n",
       "      <td>1</td>\n",
       "      <td>1</td>\n",
       "      <td>2</td>\n",
       "      <td>Train</td>\n",
       "    </tr>\n",
       "    <tr>\n",
       "      <th>7</th>\n",
       "      <td>2</td>\n",
       "      <td>1</td>\n",
       "      <td>3</td>\n",
       "      <td>3</td>\n",
       "      <td>Car</td>\n",
       "    </tr>\n",
       "    <tr>\n",
       "      <th>8</th>\n",
       "      <td>1</td>\n",
       "      <td>2</td>\n",
       "      <td>3</td>\n",
       "      <td>2</td>\n",
       "      <td>Car</td>\n",
       "    </tr>\n",
       "    <tr>\n",
       "      <th>9</th>\n",
       "      <td>2</td>\n",
       "      <td>2</td>\n",
       "      <td>3</td>\n",
       "      <td>3</td>\n",
       "      <td>Car</td>\n",
       "    </tr>\n",
       "  </tbody>\n",
       "</table>\n",
       "</div>"
      ],
      "text/plain": [
       "  gender  car_ownership travel_cost income_level transportation_mode\n",
       "0      1              0           2            1                 Bus\n",
       "1      1              1           2            2                 Bus\n",
       "2      2              1           2            2               Train\n",
       "3      2              0           2            1                 Bus\n",
       "4      1              1           2            2                 Bus\n",
       "5      1              0           1            2               Train\n",
       "6      2              1           1            2               Train\n",
       "7      2              1           3            3                 Car\n",
       "8      1              2           3            2                 Car\n",
       "9      2              2           3            3                 Car"
      ]
     },
     "execution_count": 134,
     "metadata": {},
     "output_type": "execute_result"
    }
   ],
   "source": [
    "df"
   ]
  },
  {
   "cell_type": "code",
   "execution_count": 135,
   "id": "2a5b19ca",
   "metadata": {},
   "outputs": [
    {
     "name": "stdout",
     "output_type": "stream",
     "text": [
      "[[0 1]\n",
      " [1 0]\n",
      " [0 1]\n",
      " [1 0]]\n",
      "acuracy= 0.75\n"
     ]
    },
    {
     "name": "stderr",
     "output_type": "stream",
     "text": [
      "C:\\Users\\leidiana.freitas\\Anaconda3\\lib\\site-packages\\sklearn\\neural_network\\_multilayer_perceptron.py:500: ConvergenceWarning: lbfgs failed to converge (status=1):\n",
      "STOP: TOTAL NO. of ITERATIONS REACHED LIMIT.\n",
      "\n",
      "Increase the number of iterations (max_iter) or scale the data as shown in:\n",
      "    https://scikit-learn.org/stable/modules/preprocessing.html\n",
      "  self.n_iter_ = _check_optimize_result(\"lbfgs\", opt_res, self.max_iter)\n"
     ]
    }
   ],
   "source": [
    "mlp = MLPClassifier(solver='lbfgs', hidden_layer_sizes=(1,1), activation='logistic') # definindo método\n",
    "mlp.fit(X_training, y_training)                               # treinamento\n",
    "y_pred=mlp.predict(X_testing)                                 # predição\n",
    "print(y_pred)                                                 # mostrando a saída\n",
    "accuracy=metric.accuracy_score(np.array(y_true).flatten(), np.array(y_pred).flatten(), normalize=True)\n",
    "print('acuracy=', accuracy)  "
   ]
  },
  {
   "cell_type": "code",
   "execution_count": 137,
   "id": "66ba0f6a",
   "metadata": {},
   "outputs": [
    {
     "name": "stdout",
     "output_type": "stream",
     "text": [
      "[(2, 1), (1, 1), (1, 2)]\n"
     ]
    },
    {
     "data": {
      "text/plain": [
       "[array([[-1.29338944],\n",
       "        [ 1.38709922]]),\n",
       " array([[-20.19030197]]),\n",
       " array([[  5.51350278, -52.39502293]])]"
      ]
     },
     "execution_count": 137,
     "metadata": {},
     "output_type": "execute_result"
    }
   ],
   "source": [
    "print([coef.shape for coef in mlp.coefs_]) # tamanho dos pesos das sinapses\n",
    "mlp.coefs_                                 # pesos das sinapses"
   ]
  },
  {
   "cell_type": "code",
   "execution_count": 138,
   "id": "031596b7",
   "metadata": {},
   "outputs": [
    {
     "data": {
      "text/html": [
       "<div>\n",
       "<style scoped>\n",
       "    .dataframe tbody tr th:only-of-type {\n",
       "        vertical-align: middle;\n",
       "    }\n",
       "\n",
       "    .dataframe tbody tr th {\n",
       "        vertical-align: top;\n",
       "    }\n",
       "\n",
       "    .dataframe thead th {\n",
       "        text-align: right;\n",
       "    }\n",
       "</style>\n",
       "<table border=\"1\" class=\"dataframe\">\n",
       "  <thead>\n",
       "    <tr style=\"text-align: right;\">\n",
       "      <th></th>\n",
       "      <th>gender</th>\n",
       "      <th>car_ownership</th>\n",
       "      <th>travel_cost</th>\n",
       "      <th>income_level</th>\n",
       "      <th>transportation_mode</th>\n",
       "    </tr>\n",
       "  </thead>\n",
       "  <tbody>\n",
       "    <tr>\n",
       "      <th>0</th>\n",
       "      <td>1</td>\n",
       "      <td>0</td>\n",
       "      <td>2</td>\n",
       "      <td>1</td>\n",
       "      <td>Bus</td>\n",
       "    </tr>\n",
       "    <tr>\n",
       "      <th>1</th>\n",
       "      <td>1</td>\n",
       "      <td>1</td>\n",
       "      <td>2</td>\n",
       "      <td>2</td>\n",
       "      <td>Bus</td>\n",
       "    </tr>\n",
       "    <tr>\n",
       "      <th>2</th>\n",
       "      <td>2</td>\n",
       "      <td>1</td>\n",
       "      <td>2</td>\n",
       "      <td>2</td>\n",
       "      <td>Train</td>\n",
       "    </tr>\n",
       "    <tr>\n",
       "      <th>3</th>\n",
       "      <td>2</td>\n",
       "      <td>0</td>\n",
       "      <td>2</td>\n",
       "      <td>1</td>\n",
       "      <td>Bus</td>\n",
       "    </tr>\n",
       "    <tr>\n",
       "      <th>4</th>\n",
       "      <td>1</td>\n",
       "      <td>1</td>\n",
       "      <td>2</td>\n",
       "      <td>2</td>\n",
       "      <td>Bus</td>\n",
       "    </tr>\n",
       "    <tr>\n",
       "      <th>5</th>\n",
       "      <td>1</td>\n",
       "      <td>0</td>\n",
       "      <td>1</td>\n",
       "      <td>2</td>\n",
       "      <td>Train</td>\n",
       "    </tr>\n",
       "    <tr>\n",
       "      <th>6</th>\n",
       "      <td>2</td>\n",
       "      <td>1</td>\n",
       "      <td>1</td>\n",
       "      <td>2</td>\n",
       "      <td>Train</td>\n",
       "    </tr>\n",
       "    <tr>\n",
       "      <th>7</th>\n",
       "      <td>2</td>\n",
       "      <td>1</td>\n",
       "      <td>3</td>\n",
       "      <td>3</td>\n",
       "      <td>Car</td>\n",
       "    </tr>\n",
       "    <tr>\n",
       "      <th>8</th>\n",
       "      <td>1</td>\n",
       "      <td>2</td>\n",
       "      <td>3</td>\n",
       "      <td>2</td>\n",
       "      <td>Car</td>\n",
       "    </tr>\n",
       "    <tr>\n",
       "      <th>9</th>\n",
       "      <td>2</td>\n",
       "      <td>2</td>\n",
       "      <td>3</td>\n",
       "      <td>3</td>\n",
       "      <td>Car</td>\n",
       "    </tr>\n",
       "  </tbody>\n",
       "</table>\n",
       "</div>"
      ],
      "text/plain": [
       "  gender  car_ownership travel_cost income_level transportation_mode\n",
       "0      1              0           2            1                 Bus\n",
       "1      1              1           2            2                 Bus\n",
       "2      2              1           2            2               Train\n",
       "3      2              0           2            1                 Bus\n",
       "4      1              1           2            2                 Bus\n",
       "5      1              0           1            2               Train\n",
       "6      2              1           1            2               Train\n",
       "7      2              1           3            3                 Car\n",
       "8      1              2           3            2                 Car\n",
       "9      2              2           3            3                 Car"
      ]
     },
     "execution_count": 138,
     "metadata": {},
     "output_type": "execute_result"
    }
   ],
   "source": [
    "df"
   ]
  },
  {
   "cell_type": "code",
   "execution_count": 158,
   "id": "91b8eeed",
   "metadata": {},
   "outputs": [
    {
     "data": {
      "text/html": [
       "<div>\n",
       "<style scoped>\n",
       "    .dataframe tbody tr th:only-of-type {\n",
       "        vertical-align: middle;\n",
       "    }\n",
       "\n",
       "    .dataframe tbody tr th {\n",
       "        vertical-align: top;\n",
       "    }\n",
       "\n",
       "    .dataframe thead th {\n",
       "        text-align: right;\n",
       "    }\n",
       "</style>\n",
       "<table border=\"1\" class=\"dataframe\">\n",
       "  <thead>\n",
       "    <tr style=\"text-align: right;\">\n",
       "      <th></th>\n",
       "      <th>gender</th>\n",
       "      <th>transportation_mode</th>\n",
       "    </tr>\n",
       "  </thead>\n",
       "  <tbody>\n",
       "    <tr>\n",
       "      <th>0</th>\n",
       "      <td>1</td>\n",
       "      <td>Bus</td>\n",
       "    </tr>\n",
       "    <tr>\n",
       "      <th>1</th>\n",
       "      <td>1</td>\n",
       "      <td>Bus</td>\n",
       "    </tr>\n",
       "    <tr>\n",
       "      <th>2</th>\n",
       "      <td>2</td>\n",
       "      <td>Train</td>\n",
       "    </tr>\n",
       "    <tr>\n",
       "      <th>3</th>\n",
       "      <td>2</td>\n",
       "      <td>Bus</td>\n",
       "    </tr>\n",
       "    <tr>\n",
       "      <th>4</th>\n",
       "      <td>1</td>\n",
       "      <td>Bus</td>\n",
       "    </tr>\n",
       "    <tr>\n",
       "      <th>5</th>\n",
       "      <td>1</td>\n",
       "      <td>Train</td>\n",
       "    </tr>\n",
       "    <tr>\n",
       "      <th>6</th>\n",
       "      <td>2</td>\n",
       "      <td>Train</td>\n",
       "    </tr>\n",
       "    <tr>\n",
       "      <th>7</th>\n",
       "      <td>2</td>\n",
       "      <td>Car</td>\n",
       "    </tr>\n",
       "    <tr>\n",
       "      <th>8</th>\n",
       "      <td>1</td>\n",
       "      <td>Car</td>\n",
       "    </tr>\n",
       "    <tr>\n",
       "      <th>9</th>\n",
       "      <td>2</td>\n",
       "      <td>Car</td>\n",
       "    </tr>\n",
       "  </tbody>\n",
       "</table>\n",
       "</div>"
      ],
      "text/plain": [
       "  gender transportation_mode\n",
       "0      1                 Bus\n",
       "1      1                 Bus\n",
       "2      2               Train\n",
       "3      2                 Bus\n",
       "4      1                 Bus\n",
       "5      1               Train\n",
       "6      2               Train\n",
       "7      2                 Car\n",
       "8      1                 Car\n",
       "9      2                 Car"
      ]
     },
     "execution_count": 158,
     "metadata": {},
     "output_type": "execute_result"
    }
   ],
   "source": [
    "colunas_selecionadas = ['gender', 'transportation_mode']\n",
    "df = df.filter(items=colunas_selecionadas)\n",
    "df"
   ]
  },
  {
   "cell_type": "code",
   "execution_count": 160,
   "id": "64db3c53",
   "metadata": {},
   "outputs": [
    {
     "data": {
      "text/html": [
       "<div>\n",
       "<style scoped>\n",
       "    .dataframe tbody tr th:only-of-type {\n",
       "        vertical-align: middle;\n",
       "    }\n",
       "\n",
       "    .dataframe tbody tr th {\n",
       "        vertical-align: top;\n",
       "    }\n",
       "\n",
       "    .dataframe thead th {\n",
       "        text-align: right;\n",
       "    }\n",
       "</style>\n",
       "<table border=\"1\" class=\"dataframe\">\n",
       "  <thead>\n",
       "    <tr style=\"text-align: right;\">\n",
       "      <th></th>\n",
       "      <th>gender</th>\n",
       "      <th>transportation_mode</th>\n",
       "    </tr>\n",
       "  </thead>\n",
       "  <tbody>\n",
       "    <tr>\n",
       "      <th>0</th>\n",
       "      <td>1</td>\n",
       "      <td>Bus</td>\n",
       "    </tr>\n",
       "    <tr>\n",
       "      <th>1</th>\n",
       "      <td>1</td>\n",
       "      <td>Bus</td>\n",
       "    </tr>\n",
       "    <tr>\n",
       "      <th>2</th>\n",
       "      <td>2</td>\n",
       "      <td>Train</td>\n",
       "    </tr>\n",
       "    <tr>\n",
       "      <th>3</th>\n",
       "      <td>2</td>\n",
       "      <td>Bus</td>\n",
       "    </tr>\n",
       "    <tr>\n",
       "      <th>4</th>\n",
       "      <td>1</td>\n",
       "      <td>Bus</td>\n",
       "    </tr>\n",
       "    <tr>\n",
       "      <th>5</th>\n",
       "      <td>1</td>\n",
       "      <td>Train</td>\n",
       "    </tr>\n",
       "    <tr>\n",
       "      <th>6</th>\n",
       "      <td>2</td>\n",
       "      <td>Train</td>\n",
       "    </tr>\n",
       "    <tr>\n",
       "      <th>7</th>\n",
       "      <td>2</td>\n",
       "      <td>Car</td>\n",
       "    </tr>\n",
       "    <tr>\n",
       "      <th>8</th>\n",
       "      <td>1</td>\n",
       "      <td>Car</td>\n",
       "    </tr>\n",
       "    <tr>\n",
       "      <th>9</th>\n",
       "      <td>2</td>\n",
       "      <td>Car</td>\n",
       "    </tr>\n",
       "  </tbody>\n",
       "</table>\n",
       "</div>"
      ],
      "text/plain": [
       "  gender transportation_mode\n",
       "0      1                 Bus\n",
       "1      1                 Bus\n",
       "2      2               Train\n",
       "3      2                 Bus\n",
       "4      1                 Bus\n",
       "5      1               Train\n",
       "6      2               Train\n",
       "7      2                 Car\n",
       "8      1                 Car\n",
       "9      2                 Car"
      ]
     },
     "execution_count": 160,
     "metadata": {},
     "output_type": "execute_result"
    }
   ],
   "source": [
    "df.groupby(by=[\"gender\"]).count()\n",
    "df"
   ]
  },
  {
   "cell_type": "code",
   "execution_count": 161,
   "id": "900f8419",
   "metadata": {},
   "outputs": [
    {
     "data": {
      "text/html": [
       "<div>\n",
       "<style scoped>\n",
       "    .dataframe tbody tr th:only-of-type {\n",
       "        vertical-align: middle;\n",
       "    }\n",
       "\n",
       "    .dataframe tbody tr th {\n",
       "        vertical-align: top;\n",
       "    }\n",
       "\n",
       "    .dataframe thead tr th {\n",
       "        text-align: left;\n",
       "    }\n",
       "\n",
       "    .dataframe thead tr:last-of-type th {\n",
       "        text-align: right;\n",
       "    }\n",
       "</style>\n",
       "<table border=\"1\" class=\"dataframe\">\n",
       "  <thead>\n",
       "    <tr>\n",
       "      <th></th>\n",
       "      <th colspan=\"4\" halign=\"left\">transportation_mode</th>\n",
       "    </tr>\n",
       "    <tr>\n",
       "      <th></th>\n",
       "      <th>count</th>\n",
       "      <th>unique</th>\n",
       "      <th>top</th>\n",
       "      <th>freq</th>\n",
       "    </tr>\n",
       "    <tr>\n",
       "      <th>gender</th>\n",
       "      <th></th>\n",
       "      <th></th>\n",
       "      <th></th>\n",
       "      <th></th>\n",
       "    </tr>\n",
       "  </thead>\n",
       "  <tbody>\n",
       "    <tr>\n",
       "      <th>1</th>\n",
       "      <td>5</td>\n",
       "      <td>3</td>\n",
       "      <td>Bus</td>\n",
       "      <td>3</td>\n",
       "    </tr>\n",
       "    <tr>\n",
       "      <th>2</th>\n",
       "      <td>5</td>\n",
       "      <td>3</td>\n",
       "      <td>Car</td>\n",
       "      <td>2</td>\n",
       "    </tr>\n",
       "  </tbody>\n",
       "</table>\n",
       "</div>"
      ],
      "text/plain": [
       "       transportation_mode                 \n",
       "                     count unique  top freq\n",
       "gender                                     \n",
       "1                        5      3  Bus    3\n",
       "2                        5      3  Car    2"
      ]
     },
     "execution_count": 161,
     "metadata": {},
     "output_type": "execute_result"
    }
   ],
   "source": [
    "df.groupby(by=[\"gender\"]).describe()"
   ]
  },
  {
   "cell_type": "code",
   "execution_count": 164,
   "id": "6ab8b35e",
   "metadata": {},
   "outputs": [
    {
     "data": {
      "text/plain": [
       "<AxesSubplot:title={'center':'transportation_mode'}, ylabel='Frequency'>"
      ]
     },
     "execution_count": 164,
     "metadata": {},
     "output_type": "execute_result"
    },
    {
     "data": {
      "image/png": "[encoded data removed]",
      "text/plain": [
       "<Figure size 432x288 with 1 Axes>"
      ]
     },
     "metadata": {
      "needs_background": "light"
     },
     "output_type": "display_data"
    }
   ],
   "source": [
    "#df['gender'].plot.hist(edgecolor='black', title= 'transportation_mode')"
   ]
  },
  {
   "cell_type": "code",
   "execution_count": null,
   "id": "1a64c134",
   "metadata": {},
   "outputs": [],
   "source": [
    "\n"
   ]
  },
  {
   "cell_type": "code",
   "execution_count": null,
   "id": "ff628d45",
   "metadata": {},
   "outputs": [],
   "source": []
  },
  {
   "cell_type": "code",
   "execution_count": null,
   "id": "e86d8277",
   "metadata": {},
   "outputs": [],
   "source": []
  }
 ],
 "metadata": {
  "kernelspec": {
   "display_name": "Python 3",
   "language": "python",
   "name": "python3"
  },
  "language_info": {
   "codemirror_mode": {
    "name": "ipython",
    "version": 3
   },
   "file_extension": ".py",
   "mimetype": "text/x-python",
   "name": "python",
   "nbconvert_exporter": "python",
   "pygments_lexer": "ipython3",
   "version": "3.8.8"
  }
 },
 "nbformat": 4,
 "nbformat_minor": 5
}
