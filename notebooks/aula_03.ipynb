{
 "cells": [
  {
   "cell_type": "markdown",
   "metadata": {
    "id": "HVRy9rZDXHVs"
   },
   "source": [
    "### **EXERCÍCIO: MODELO DE REGRESSÃO LINEAR E MÉTODO DE VALIDAÇÃO CRUZADA (K-FOLD)**\n",
    "\n",
    "O dataset utilizado para este exercício refere-se à dados imobiliários de casas à venda."
   ]
  },
  {
   "cell_type": "code",
   "execution_count": 6,
   "metadata": {
    "id": "G8weSqI6WxMG"
   },
   "outputs": [
    {
     "ename": "SyntaxError",
     "evalue": "invalid syntax (<ipython-input-6-c04db3bf5562>, line 11)",
     "output_type": "error",
     "traceback": [
      "\u001b[1;36m  File \u001b[1;32m\"<ipython-input-6-c04db3bf5562>\"\u001b[1;36m, line \u001b[1;32m11\u001b[0m\n\u001b[1;33m    import\u001b[0m\n\u001b[1;37m           ^\u001b[0m\n\u001b[1;31mSyntaxError\u001b[0m\u001b[1;31m:\u001b[0m invalid syntax\n"
     ]
    }
   ],
   "source": [
    "import pandas as pd\n",
    "import numpy as np\n",
    "from sklearn import linear_model as lm\n",
    "from sklearn import datasets\n",
    "from sklearn.metrics import r2_score, mean_squared_error\n",
    "from sklearn.preprocessing import MinMaxScaler\n",
    "from sklearn.model_selection import train_test_split, KFold, cross_val_score, cross_val_predict\n",
    "#from mlxtend.evaluate import bias_variance_decomp\n",
    "import matplotlib.pyplot as plt\n",
    "import matplotlib_venn\n",
    "import "
   ]
  },
  {
   "cell_type": "markdown",
   "metadata": {
    "id": "Eh5gpmYFd9QW"
   },
   "source": [
    "# Importing a library that is not in Colaboratory\n",
    "\n",
    "To import a library that's not in Colaboratory by default, you can use `!pip install` or `!apt-get install`."
   ]
  },
  {
   "cell_type": "code",
   "execution_count": 7,
   "metadata": {
    "colab": {
     "base_uri": "https://localhost:8080/"
    },
    "executionInfo": {
     "elapsed": 6214,
     "status": "ok",
     "timestamp": 1630446703739,
     "user": {
      "displayName": "Leidiana Iza Andrade Freitas",
      "photoUrl": "",
      "userId": "01064954486875378846"
     },
     "user_tz": 180
    },
    "id": "N9kpJjIReBJz",
    "outputId": "5a183db8-af96-4ca2-a9a9-a07de74f9b84"
   },
   "outputs": [
    {
     "name": "stdout",
     "output_type": "stream",
     "text": [
      "Collecting matplotlib-venn\n",
      "  Downloading matplotlib-venn-0.11.6.tar.gz (29 kB)\n",
      "Requirement already satisfied: matplotlib in c:\\users\\leidiana.freitas\\anaconda3\\lib\\site-packages (from matplotlib-venn) (3.3.4)\n",
      "Requirement already satisfied: numpy in c:\\users\\leidiana.freitas\\anaconda3\\lib\\site-packages (from matplotlib-venn) (1.20.1)\n",
      "Requirement already satisfied: scipy in c:\\users\\leidiana.freitas\\anaconda3\\lib\\site-packages (from matplotlib-venn) (1.6.2)\n",
      "Requirement already satisfied: pillow>=6.2.0 in c:\\users\\leidiana.freitas\\anaconda3\\lib\\site-packages (from matplotlib->matplotlib-venn) (8.2.0)\n",
      "Requirement already satisfied: python-dateutil>=2.1 in c:\\users\\leidiana.freitas\\anaconda3\\lib\\site-packages (from matplotlib->matplotlib-venn) (2.8.1)\n",
      "Requirement already satisfied: cycler>=0.10 in c:\\users\\leidiana.freitas\\anaconda3\\lib\\site-packages (from matplotlib->matplotlib-venn) (0.10.0)\n",
      "Requirement already satisfied: pyparsing!=2.0.4,!=2.1.2,!=2.1.6,>=2.0.3 in c:\\users\\leidiana.freitas\\anaconda3\\lib\\site-packages (from matplotlib->matplotlib-venn) (2.4.7)\n",
      "Requirement already satisfied: kiwisolver>=1.0.1 in c:\\users\\leidiana.freitas\\anaconda3\\lib\\site-packages (from matplotlib->matplotlib-venn) (1.3.1)\n",
      "Requirement already satisfied: six in c:\\users\\leidiana.freitas\\anaconda3\\lib\\site-packages (from cycler>=0.10->matplotlib->matplotlib-venn) (1.15.0)\n",
      "Building wheels for collected packages: matplotlib-venn\n",
      "  Building wheel for matplotlib-venn (setup.py): started\n",
      "  Building wheel for matplotlib-venn (setup.py): finished with status 'done'\n",
      "  Created wheel for matplotlib-venn: filename=matplotlib_venn-0.11.6-py3-none-any.whl size=32062 sha256=b3655c9fbe9eb199c0c641ef9ea0eeadc3502a660d7016eaaf01192523ca4e06\n",
      "  Stored in directory: c:\\users\\leidiana.freitas\\appdata\\local\\pip\\cache\\wheels\\82\\e4\\64\\dd790d424818bc2f59c11471a1eee5dc8cfcd3f8ee8c4812fa\n",
      "Successfully built matplotlib-venn\n",
      "Installing collected packages: matplotlib-venn\n",
      "Successfully installed matplotlib-venn-0.11.6\n",
      "Collecting Bias\n",
      "  Downloading bias-0.0.1-py3-none-any.whl (10 kB)\n",
      "Installing collected packages: Bias\n",
      "Successfully installed Bias-0.0.1\n"
     ]
    },
    {
     "name": "stderr",
     "output_type": "stream",
     "text": [
      "ERROR: unknown command \"isntall\" - maybe you meant \"install\"\n",
      "\n"
     ]
    }
   ],
   "source": [
    "# Instalando bilioteca \n",
    "!pip install matplotlib-venn\n",
    "!pip install Bias \n",
    "!pip isntall mse"
   ]
  },
  {
   "cell_type": "code",
   "execution_count": 8,
   "metadata": {
    "id": "W1ISzObleF5A"
   },
   "outputs": [],
   "source": [
    "#!apt-get -qq install -y libfluidsynth1"
   ]
  },
  {
   "cell_type": "markdown",
   "metadata": {
    "id": "2wCXxKRVY0rU"
   },
   "source": [
    "**Importando o Dataframe do Google Drive**"
   ]
  },
  {
   "cell_type": "code",
   "execution_count": 9,
   "metadata": {
    "colab": {
     "base_uri": "https://localhost:8080/"
    },
    "executionInfo": {
     "elapsed": 13,
     "status": "ok",
     "timestamp": 1630446703741,
     "user": {
      "displayName": "Leidiana Iza Andrade Freitas",
      "photoUrl": "",
      "userId": "01064954486875378846"
     },
     "user_tz": 180
    },
    "id": "HSBMQjlEX7P9",
    "outputId": "7ad5f968-b8b1-4da8-ba68-19a74bb9189a"
   },
   "outputs": [
    {
     "ename": "ModuleNotFoundError",
     "evalue": "No module named 'google'",
     "output_type": "error",
     "traceback": [
      "\u001b[1;31m---------------------------------------------------------------------------\u001b[0m",
      "\u001b[1;31mModuleNotFoundError\u001b[0m                       Traceback (most recent call last)",
      "\u001b[1;32m<ipython-input-9-d5df0069828e>\u001b[0m in \u001b[0;36m<module>\u001b[1;34m\u001b[0m\n\u001b[1;32m----> 1\u001b[1;33m \u001b[1;32mfrom\u001b[0m \u001b[0mgoogle\u001b[0m\u001b[1;33m.\u001b[0m\u001b[0mcolab\u001b[0m \u001b[1;32mimport\u001b[0m \u001b[0mdrive\u001b[0m\u001b[1;33m\u001b[0m\u001b[1;33m\u001b[0m\u001b[0m\n\u001b[0m\u001b[0;32m      2\u001b[0m \u001b[0mdrive\u001b[0m\u001b[1;33m.\u001b[0m\u001b[0mmount\u001b[0m\u001b[1;33m(\u001b[0m\u001b[1;34m'/content/drive'\u001b[0m\u001b[1;33m)\u001b[0m\u001b[1;33m\u001b[0m\u001b[1;33m\u001b[0m\u001b[0m\n",
      "\u001b[1;31mModuleNotFoundError\u001b[0m: No module named 'google'"
     ]
    }
   ],
   "source": [
    "from google.colab import drive\n",
    "drive.mount('/content/drive')\n"
   ]
  },
  {
   "cell_type": "code",
   "execution_count": null,
   "metadata": {
    "colab": {
     "base_uri": "https://localhost:8080/",
     "height": 221
    },
    "executionInfo": {
     "elapsed": 10,
     "status": "ok",
     "timestamp": 1630446704068,
     "user": {
      "displayName": "Leidiana Iza Andrade Freitas",
      "photoUrl": "",
      "userId": "01064954486875378846"
     },
     "user_tz": 180
    },
    "id": "fus6L-AfYj1M",
    "outputId": "fbc3ffe2-d00b-440d-c486-dbdc7819e7bd"
   },
   "outputs": [],
   "source": [
    "data=pd.read_csv('/content/drive/MyDrive/Machine_Learning_Dellead/Datasets/real-estate.csv')\n",
    "data.head()"
   ]
  },
  {
   "cell_type": "code",
   "execution_count": null,
   "metadata": {
    "colab": {
     "base_uri": "https://localhost:8080/",
     "height": 204
    },
    "executionInfo": {
     "elapsed": 17,
     "status": "ok",
     "timestamp": 1630446705052,
     "user": {
      "displayName": "Leidiana Iza Andrade Freitas",
      "photoUrl": "",
      "userId": "01064954486875378846"
     },
     "user_tz": 180
    },
    "id": "B7JZ9T6SnEjI",
    "outputId": "36bc9313-404a-49fd-ce92-f0ecac835615"
   },
   "outputs": [],
   "source": [
    "#removendo a coluna sem dado\n",
    "data.drop(columns=['No', 'X1 transaction date'],inplace=True)\n",
    "data.head()"
   ]
  },
  {
   "cell_type": "markdown",
   "metadata": {
    "id": "CPCUXcKRZ4ZW"
   },
   "source": [
    "a. Calcule estatísticas básicas usando o describe;"
   ]
  },
  {
   "cell_type": "code",
   "execution_count": null,
   "metadata": {
    "colab": {
     "base_uri": "https://localhost:8080/",
     "height": 297
    },
    "executionInfo": {
     "elapsed": 320,
     "status": "ok",
     "timestamp": 1630446707135,
     "user": {
      "displayName": "Leidiana Iza Andrade Freitas",
      "photoUrl": "",
      "userId": "01064954486875378846"
     },
     "user_tz": 180
    },
    "id": "tv7_roMbcA9N",
    "outputId": "fffce96f-a386-4071-aae8-7e58b262e880"
   },
   "outputs": [],
   "source": [
    "data.describe()"
   ]
  },
  {
   "cell_type": "markdown",
   "metadata": {
    "id": "2rrDVvXOcIM-"
   },
   "source": [
    "b. Verifique se há dados faltantes. Caso haja, trate-os da forma que achar mais\n",
    "conveniente para o contexto do problema;"
   ]
  },
  {
   "cell_type": "code",
   "execution_count": null,
   "metadata": {
    "colab": {
     "base_uri": "https://localhost:8080/"
    },
    "executionInfo": {
     "elapsed": 10,
     "status": "ok",
     "timestamp": 1630446709131,
     "user": {
      "displayName": "Leidiana Iza Andrade Freitas",
      "photoUrl": "",
      "userId": "01064954486875378846"
     },
     "user_tz": 180
    },
    "id": "1n34Dk1tcSwP",
    "outputId": "82b9cdcc-e98d-4760-fef7-12a6d1e1af39"
   },
   "outputs": [],
   "source": [
    "#caso haja dados faltante o método isnull() com o sum() irá enconctrar e fazer a soma\n",
    "data.isnull() \n",
    "data.isnull().sum()"
   ]
  },
  {
   "cell_type": "markdown",
   "metadata": {
    "id": "-mdT2FZhcUjn"
   },
   "source": [
    "c. Verifique se há dados duplicados. Caso haja, trate-os da forma adequada."
   ]
  },
  {
   "cell_type": "code",
   "execution_count": null,
   "metadata": {
    "colab": {
     "base_uri": "https://localhost:8080/"
    },
    "executionInfo": {
     "elapsed": 12,
     "status": "ok",
     "timestamp": 1630446710492,
     "user": {
      "displayName": "Leidiana Iza Andrade Freitas",
      "photoUrl": "",
      "userId": "01064954486875378846"
     },
     "user_tz": 180
    },
    "id": "0onfDQu7cag-",
    "outputId": "bfd08db8-8045-43bd-836f-cdd53db45414"
   },
   "outputs": [],
   "source": [
    "data.duplicated()"
   ]
  },
  {
   "cell_type": "markdown",
   "metadata": {
    "id": "gNX56xsicbPi"
   },
   "source": [
    "d. Calcule a correlação dos atributos utilizando a função **corr do pandas com o\n",
    "método de pearson**. O que você observa de acordo com a matriz de\n",
    "correlações? Faça um gráfico de dispersão, e procure indícios visuais que\n",
    "confirmem os valores de correlação encontrados na matriz."
   ]
  },
  {
   "cell_type": "markdown",
   "metadata": {
    "id": "M0q4Iv5QkdS5"
   },
   "source": [
    "***Essa correlação varia de -1 a 1 sendo:*** \n",
    "\n",
    "* 0.9 a 1 positivo ou negativo indica uma correlação muito forte.\n",
    "* 0.7 a 0.9 positivo ou negativo indica uma correlação forte.\n",
    "* 0.5 a 0.7 positivo ou negativo indica uma correlação moderada.\n",
    "* 0.3 a 0.5 positivo ou negativo indica uma correlação fraca.\n",
    "* 0 a 0.3 positivo ou negativo indica uma correlação desprezível.\n",
    "\n"
   ]
  },
  {
   "cell_type": "code",
   "execution_count": null,
   "metadata": {
    "colab": {
     "base_uri": "https://localhost:8080/",
     "height": 269
    },
    "executionInfo": {
     "elapsed": 337,
     "status": "ok",
     "timestamp": 1630446713188,
     "user": {
      "displayName": "Leidiana Iza Andrade Freitas",
      "photoUrl": "",
      "userId": "01064954486875378846"
     },
     "user_tz": 180
    },
    "id": "wYdDbrl0i6Ie",
    "outputId": "4551a149-0736-4b95-861a-ebf683da611d"
   },
   "outputs": [],
   "source": [
    "#essa correlação varia de -1 a 1 sendo\n",
    "data.corr('pearson')"
   ]
  },
  {
   "cell_type": "markdown",
   "metadata": {
    "id": "NKFgkCC5rYjR"
   },
   "source": [
    "Continuação da questão: \n"
   ]
  },
  {
   "cell_type": "code",
   "execution_count": null,
   "metadata": {
    "colab": {
     "base_uri": "https://localhost:8080/",
     "height": 282
    },
    "executionInfo": {
     "elapsed": 326,
     "status": "ok",
     "timestamp": 1630446715126,
     "user": {
      "displayName": "Leidiana Iza Andrade Freitas",
      "photoUrl": "",
      "userId": "01064954486875378846"
     },
     "user_tz": 180
    },
    "id": "cowXU-7plEi2",
    "outputId": "bd47cb51-bea6-4f9e-b9f0-540abe47c88a"
   },
   "outputs": [],
   "source": [
    "#gráfico de dispersão (Hinessa me ajuda a entender no gráfica essas correlações)\n",
    "plt.scatter(data['X2 house age'], data['Y house price of unit area'])\n",
    "plt.scatter(data['X3 distance to the nearest MRT station'], data['Y house price of unit area'], color= 'green')\n",
    "plt.scatter(data['X4 number of convenience stores'], data['Y house price of unit area'], color = 'red')\n",
    "plt.scatter(data['X5 latitude'], data['Y house price of unit area'], color = 'pink')\n",
    "plt.scatter(data['X6 longitude'], data['Y house price of unit area'], color = 'orange')"
   ]
  },
  {
   "cell_type": "markdown",
   "metadata": {
    "id": "ZLFQMw9QceK8"
   },
   "source": [
    "e. Verifique os valores dos dados, e os padronizem na mesma escala. Você pode\n",
    "usar a função MinMaxScaler do sci-kit learn para isso."
   ]
  },
  {
   "cell_type": "code",
   "execution_count": null,
   "metadata": {
    "id": "VOczx0QmcdiG"
   },
   "outputs": [],
   "source": [
    "X = data.iloc[:, [2]].copy()\n",
    "Y =  data.iloc[:, [4] ].copy()"
   ]
  },
  {
   "cell_type": "code",
   "execution_count": null,
   "metadata": {
    "id": "GsG4kgywv05Q"
   },
   "outputs": [],
   "source": [
    "data2 = data.values\n",
    "X = data2[:, :-1]\n",
    "Y = data2[:, -1]"
   ]
  },
  {
   "cell_type": "code",
   "execution_count": null,
   "metadata": {
    "id": "ufIjeegQv47c"
   },
   "outputs": [],
   "source": [
    "scaler = MinMaxScaler()\n",
    "scaler.fit(X, Y)\n",
    "scaled = scaler.transform(X)"
   ]
  },
  {
   "cell_type": "code",
   "execution_count": null,
   "metadata": {
    "id": "6xh7U1-uv_WS"
   },
   "outputs": [],
   "source": [
    "X2 = scaled[:, :-1]"
   ]
  },
  {
   "cell_type": "markdown",
   "metadata": {
    "id": "7Ig_DMkrwQUH"
   },
   "source": [
    "\n",
    "**Criando o modelo**"
   ]
  },
  {
   "cell_type": "code",
   "execution_count": null,
   "metadata": {
    "id": "_FF2fY5VwUag"
   },
   "outputs": [],
   "source": [
    "x_train, x_test, y_train, y_test = train_test_split(X, Y, test_size=0.2)"
   ]
  },
  {
   "cell_type": "code",
   "execution_count": null,
   "metadata": {
    "colab": {
     "base_uri": "https://localhost:8080/",
     "height": 195
    },
    "executionInfo": {
     "elapsed": 271,
     "status": "error",
     "timestamp": 1631566066346,
     "user": {
      "displayName": "Leidiana Iza Andrade Freitas",
      "photoUrl": "https://lh3.googleusercontent.com/a/default-user=s64",
      "userId": "01064954486875378846"
     },
     "user_tz": 180
    },
    "id": "9PL6xq9YwWfL",
    "outputId": "88e18d6c-1295-4a05-b134-c02671c30167"
   },
   "outputs": [],
   "source": [
    "lr = lm.LinearRegression()\n",
    "model = lr.fit(x_train, y_train)\n",
    "predicted = lr.predict(x_test)"
   ]
  },
  {
   "cell_type": "code",
   "execution_count": null,
   "metadata": {
    "colab": {
     "base_uri": "https://localhost:8080/",
     "height": 162
    },
    "executionInfo": {
     "elapsed": 273,
     "status": "error",
     "timestamp": 1631566069292,
     "user": {
      "displayName": "Leidiana Iza Andrade Freitas",
      "photoUrl": "https://lh3.googleusercontent.com/a/default-user=s64",
      "userId": "01064954486875378846"
     },
     "user_tz": 180
    },
    "id": "T3Pq8i9hws0H",
    "outputId": "299eee2d-99f2-4a61-af62-eae9fb278ade"
   },
   "outputs": [],
   "source": [
    "mse, bias, var = bias_variance_decomp(lr, x_train, y_train, x_test, y_test, loss='mse')"
   ]
  },
  {
   "cell_type": "code",
   "execution_count": null,
   "metadata": {
    "colab": {
     "base_uri": "https://localhost:8080/",
     "height": 162
    },
    "executionInfo": {
     "elapsed": 273,
     "status": "error",
     "timestamp": 1631566070846,
     "user": {
      "displayName": "Leidiana Iza Andrade Freitas",
      "photoUrl": "https://lh3.googleusercontent.com/a/default-user=s64",
      "userId": "01064954486875378846"
     },
     "user_tz": 180
    },
    "id": "dAEDEslI9Qrd",
    "outputId": "2fe451d1-bbb5-4a58-8a94-7d1c3568f6c2"
   },
   "outputs": [],
   "source": [
    "print(mse, bias, var)"
   ]
  },
  {
   "cell_type": "code",
   "execution_count": null,
   "metadata": {
    "colab": {
     "base_uri": "https://localhost:8080/",
     "height": 162
    },
    "executionInfo": {
     "elapsed": 6,
     "status": "error",
     "timestamp": 1631566072039,
     "user": {
      "displayName": "Leidiana Iza Andrade Freitas",
      "photoUrl": "https://lh3.googleusercontent.com/a/default-user=s64",
      "userId": "01064954486875378846"
     },
     "user_tz": 180
    },
    "id": "dBOY-LjQ9VMC",
    "outputId": "fec196ab-2835-416a-f9b1-0434e28a8116"
   },
   "outputs": [],
   "source": [
    "model.score(x_test, y_test)"
   ]
  },
  {
   "cell_type": "code",
   "execution_count": null,
   "metadata": {
    "colab": {
     "base_uri": "https://localhost:8080/",
     "height": 162
    },
    "executionInfo": {
     "elapsed": 265,
     "status": "error",
     "timestamp": 1631566073517,
     "user": {
      "displayName": "Leidiana Iza Andrade Freitas",
      "photoUrl": "https://lh3.googleusercontent.com/a/default-user=s64",
      "userId": "01064954486875378846"
     },
     "user_tz": 180
    },
    "id": "OaYeqqww9VVK",
    "outputId": "e009e5a9-4d56-4ebe-f624-e166551d9035"
   },
   "outputs": [],
   "source": [
    "r2_score(y_test, predicted)"
   ]
  },
  {
   "cell_type": "code",
   "execution_count": null,
   "metadata": {
    "colab": {
     "base_uri": "https://localhost:8080/"
    },
    "executionInfo": {
     "elapsed": 14,
     "status": "ok",
     "timestamp": 1630446724745,
     "user": {
      "displayName": "Leidiana Iza Andrade Freitas",
      "photoUrl": "",
      "userId": "01064954486875378846"
     },
     "user_tz": 180
    },
    "id": "xjFC9Qxl9dsw",
    "outputId": "b4505dcd-f147-46d1-b9e5-787a0107f03f"
   },
   "outputs": [],
   "source": [
    "mean_squared_error(y_test, predicted)"
   ]
  },
  {
   "cell_type": "code",
   "execution_count": null,
   "metadata": {
    "colab": {
     "base_uri": "https://localhost:8080/",
     "height": 279
    },
    "executionInfo": {
     "elapsed": 532,
     "status": "ok",
     "timestamp": 1630446725979,
     "user": {
      "displayName": "Leidiana Iza Andrade Freitas",
      "photoUrl": "",
      "userId": "01064954486875378846"
     },
     "user_tz": 180
    },
    "id": "I5ulZDoK9jlj",
    "outputId": "452afd23-ab9d-4af1-a425-bd15b5e6b228"
   },
   "outputs": [],
   "source": [
    "plt.scatter(y_test, predicted)\n",
    "plt.plot([y_test.min(), y_test.max()], [y_test.min(), y_test.max()], color='blue')\n",
    "plt.ylabel(\"Predição\")\n",
    "plt.xlabel(\"Real\")\n",
    "plt.show()"
   ]
  },
  {
   "cell_type": "markdown",
   "metadata": {
    "id": "jp9JFszpck5r"
   },
   "source": [
    "f. Defina as variáveis X (variáveis independentes) e Y (variável dependente,\n",
    "atributo classe da predição)."
   ]
  },
  {
   "cell_type": "code",
   "execution_count": null,
   "metadata": {
    "id": "cf4UMEMLcnML"
   },
   "outputs": [],
   "source": []
  },
  {
   "cell_type": "markdown",
   "metadata": {
    "id": "kSho9hyncoGE"
   },
   "source": [
    "2. Crie um modelo de Regressão Linear que, dando como entrada os atributos da casa,\n",
    "retorne o seu preço de venda:\n",
    "a. Defina seus conjuntos de treino e teste (utilize as proporções 70% - 30% ou\n",
    "80% - 20%);"
   ]
  },
  {
   "cell_type": "code",
   "execution_count": null,
   "metadata": {
    "id": "hb3cI0YEc4gN"
   },
   "outputs": [],
   "source": []
  },
  {
   "cell_type": "markdown",
   "metadata": {
    "id": "baUDDK_zhKfs"
   },
   "source": [
    "Referências:\n",
    "https://minerandodados.com.br/cafe-com-codigo-tratando-valores-faltantes-pandas-python/"
   ]
  },
  {
   "cell_type": "code",
   "execution_count": null,
   "metadata": {
    "id": "nm7X3O18hMXr"
   },
   "outputs": [],
   "source": []
  }
 ],
 "metadata": {
  "colab": {
   "authorship_tag": "ABX9TyMFD7qU5W165gJ/lBmNNvyG",
   "mount_file_id": "1HG6w0L_RBk0ocRWFc5hzbt2MYdg7Bg7R",
   "name": "aula_03_dellead.ipynb",
   "provenance": []
  },
  "kernelspec": {
   "display_name": "Python 3",
   "language": "python",
   "name": "python3"
  },
  "language_info": {
   "codemirror_mode": {
    "name": "ipython",
    "version": 3
   },
   "file_extension": ".py",
   "mimetype": "text/x-python",
   "name": "python",
   "nbconvert_exporter": "python",
   "pygments_lexer": "ipython3",
   "version": "3.8.8"
  }
 },
 "nbformat": 4,
 "nbformat_minor": 1
}
